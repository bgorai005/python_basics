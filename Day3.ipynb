{
 "cells": [
  {
   "cell_type": "code",
   "execution_count": 1,
   "id": "35d90377",
   "metadata": {},
   "outputs": [
    {
     "data": {
      "text/plain": [
       "' A code pattern is generally reffered to as pythonic if it uses pattern known as idioms which are iin fact some code \\nconventions acceptable by python community'"
      ]
     },
     "execution_count": 1,
     "metadata": {},
     "output_type": "execute_result"
    }
   ],
   "source": [
    "# some recap:\n",
    "''' A code pattern is generally reffered to as pythonic if it uses pattern known as idioms which are iin fact some code \n",
    "conventions acceptable by python community'''\n",
    "# for example  looping through a dictionary, we can fetch both key and value at a same time by using items()method"
   ]
  },
  {
   "cell_type": "code",
   "execution_count": 3,
   "id": "649b05d4",
   "metadata": {},
   "outputs": [
    {
     "name": "stdout",
     "output_type": "stream",
     "text": [
      "key:  1\n",
      "val: arbitary\n",
      "key:  2\n",
      "val: epsilon\n",
      "key:  3\n",
      "val: delta\n"
     ]
    }
   ],
   "source": [
    "dict1={1:\"arbitary\",2:\"epsilon\",3:'delta'}\n",
    "for key,val in dict1.items():\n",
    "    print('key: ', key)\n",
    "    print('val:', val)"
   ]
  },
  {
   "cell_type": "code",
   "execution_count": 6,
   "id": "dc3bf4e1",
   "metadata": {},
   "outputs": [
    {
     "data": {
      "text/plain": [
       "[1, 3, 5, 7, 9, 11, 13, 15, 17, 19, 21, 23, 25, 27, 29]"
      ]
     },
     "execution_count": 6,
     "metadata": {},
     "output_type": "execute_result"
    }
   ],
   "source": [
    "# list comprehension:once we have an iterable, it is required to perform these operation.\n",
    "#select some elemntsthat meet some conditions \n",
    "# perform some operations on every element\n",
    "# both\n",
    "# so pthon has an idiomatic way of doing these known as list comprehension.\n",
    "#exaple print the odd no between 1 to 30\n",
    "list_odd=[]\n",
    "for i in range(30):\n",
    "    if i%2==1:\n",
    "        list_odd.append(i)\n",
    "list_odd        "
   ]
  },
  {
   "cell_type": "code",
   "execution_count": 7,
   "id": "1dacc652",
   "metadata": {},
   "outputs": [
    {
     "name": "stdout",
     "output_type": "stream",
     "text": [
      "15\n"
     ]
    }
   ],
   "source": [
    "#function\n",
    "def sum(a,b):\n",
    "    return a+b\n",
    "print(sum(7,8))"
   ]
  },
  {
   "cell_type": "code",
   "execution_count": 8,
   "id": "c6f0aed0",
   "metadata": {},
   "outputs": [],
   "source": [
    "#aliases:A given nickname is known as alias,\n",
    "import pandas as pd# here pd is alias of pandas"
   ]
  },
  {
   "cell_type": "markdown",
   "id": "138d42a1",
   "metadata": {},
   "source": [
    "# Iterator"
   ]
  },
  {
   "cell_type": "markdown",
   "id": "dad932a7",
   "metadata": {},
   "source": [
    "##  in Python, an iterator is an object which implements the iterator protocol, which consist of the methods __iter__() and __next__()."
   ]
  },
  {
   "cell_type": "code",
   "execution_count": 9,
   "id": "ab0d3ded",
   "metadata": {},
   "outputs": [
    {
     "data": {
      "text/plain": [
       "<list_iterator at 0x1d05b00d750>"
      ]
     },
     "execution_count": 9,
     "metadata": {},
     "output_type": "execute_result"
    }
   ],
   "source": [
    "#How can we produce an iterator ?\n",
    "list3=['a','v','d','s',1]\n",
    "iter_a=iter(list3)\n",
    "iter_a"
   ]
  },
  {
   "cell_type": "code",
   "execution_count": 10,
   "id": "6e991724",
   "metadata": {},
   "outputs": [
    {
     "data": {
      "text/plain": [
       "'a'"
      ]
     },
     "execution_count": 10,
     "metadata": {},
     "output_type": "execute_result"
    }
   ],
   "source": [
    "next(iter_a)"
   ]
  },
  {
   "cell_type": "code",
   "execution_count": 11,
   "id": "3410bacd",
   "metadata": {},
   "outputs": [
    {
     "data": {
      "text/plain": [
       "'v'"
      ]
     },
     "execution_count": 11,
     "metadata": {},
     "output_type": "execute_result"
    }
   ],
   "source": [
    "iter_a.__next__()"
   ]
  },
  {
   "cell_type": "code",
   "execution_count": 13,
   "id": "cecadfee",
   "metadata": {},
   "outputs": [],
   "source": [
    "#when iterator exhuasted then it through an exception Stopiteration\n",
    "#iterators nned not be finite"
   ]
  },
  {
   "cell_type": "markdown",
   "id": "c62086d9",
   "metadata": {},
   "source": [
    "# Generator"
   ]
  },
  {
   "cell_type": "code",
   "execution_count": 18,
   "id": "3f0bdd8a",
   "metadata": {},
   "outputs": [],
   "source": [
    "#generators functuons are special functions in python that simplify writing custom iterators. This function returns an iterator,\n",
    "#which can be used a stream of data.\n",
    "import math"
   ]
  },
  {
   "cell_type": "code",
   "execution_count": 25,
   "id": "fa0b24e3",
   "metadata": {},
   "outputs": [],
   "source": [
    "def sum_list(l):\n",
    "    sum=0\n",
    "    for i in l:\n",
    "        sum+=i\n",
    "    return sum    \n",
    "        "
   ]
  },
  {
   "cell_type": "code",
   "execution_count": 27,
   "id": "003105f6",
   "metadata": {},
   "outputs": [
    {
     "name": "stdout",
     "output_type": "stream",
     "text": [
      "1 3 6 10 15 21 28 36 45 55 "
     ]
    }
   ],
   "source": [
    "def first_n_sum_func(n):\n",
    "    sum_num_list,num =[], 1 # create an empty list to hold values of sums\n",
    "    sum_num=sum_list(sum_num_list)\n",
    "    while num<=n:\n",
    "        sum_num=sum_num+num\n",
    "        sum_num_list.append(sum_num)\n",
    "        num+=1\n",
    "    return sum_num_list    \n",
    "for i in first_n_sum_func(10):\n",
    "    print(i,end=' ')"
   ]
  },
  {
   "cell_type": "code",
   "execution_count": null,
   "id": "54149454",
   "metadata": {},
   "outputs": [],
   "source": [
    "#We created a list to hold the sums , for this purpose , it much more elgant to use genrators"
   ]
  },
  {
   "cell_type": "code",
   "execution_count": 32,
   "id": "a1cc11f9",
   "metadata": {},
   "outputs": [
    {
     "name": "stdout",
     "output_type": "stream",
     "text": [
      "1 3 6 10 15 21 28 36 45 55 "
     ]
    }
   ],
   "source": [
    "def first_n_num_gen(n):\n",
    "    sum_num,num=0,1\n",
    "    while num<=n:\n",
    "        sum_num +=num\n",
    "        num +=1\n",
    "        yield sum_num\n",
    "for i in first_n_num_gen(10):\n",
    "    print(i,end=' ')"
   ]
  },
  {
   "cell_type": "code",
   "execution_count": 42,
   "id": "d4d75caf",
   "metadata": {},
   "outputs": [],
   "source": [
    "# to understand how this generators function works \n",
    "## A funtion with one or more yields statement is generator function\n",
    "## once a generator functin is called , the execution does not start and it only return a generator object , which is an iterator.\n",
    "## the first time __next()__ is called on the genrator object , the function will executes untill it reaches the first yields\n",
    "## once  __next()__ is called on the genrator object, the function resumes where it is lef and until it reaches second yields.\n",
    "## once funtion terminates StopIteration raised."
   ]
  },
  {
   "cell_type": "code",
   "execution_count": 33,
   "id": "d2ed5c3a",
   "metadata": {},
   "outputs": [
    {
     "name": "stdout",
     "output_type": "stream",
     "text": [
      "1 3 6 10 15 21 28 36 45 55\n"
     ]
    }
   ],
   "source": [
    "print(*first_n_sum_func(10))"
   ]
  },
  {
   "cell_type": "code",
   "execution_count": 34,
   "id": "4bb74462",
   "metadata": {},
   "outputs": [
    {
     "name": "stdout",
     "output_type": "stream",
     "text": [
      "[1, 3, 6, 10, 15, 21, 28, 36, 45, 55]\n"
     ]
    }
   ],
   "source": [
    "print(first_n_sum_func(10))"
   ]
  },
  {
   "cell_type": "code",
   "execution_count": 35,
   "id": "04fdcd7d",
   "metadata": {},
   "outputs": [
    {
     "name": "stdout",
     "output_type": "stream",
     "text": [
      "1 3 6 10 15 21 28 36 45 55\n"
     ]
    }
   ],
   "source": [
    "print(*first_n_num_gen(10))"
   ]
  },
  {
   "cell_type": "code",
   "execution_count": 36,
   "id": "5fb1974b",
   "metadata": {},
   "outputs": [
    {
     "name": "stdout",
     "output_type": "stream",
     "text": [
      "<generator object first_n_num_gen at 0x000001D05B0BFED0>\n"
     ]
    }
   ],
   "source": [
    "print(first_n_num_gen(10))"
   ]
  },
  {
   "cell_type": "code",
   "execution_count": 37,
   "id": "b1aefded",
   "metadata": {},
   "outputs": [],
   "source": [
    "# the key difference is genrator returns an iterator . IN the avobe example in a for loop the __next()__ method applied \n",
    "#until is exhuasted "
   ]
  },
  {
   "cell_type": "code",
   "execution_count": 38,
   "id": "19d51d1f",
   "metadata": {},
   "outputs": [],
   "source": [
    "#generator expression: The same way ce=reating list compreshension to create simple list , generator expression to create \n",
    "#simple generators. the syntax for genexps ()"
   ]
  },
  {
   "cell_type": "code",
   "execution_count": 41,
   "id": "7ad274ea",
   "metadata": {},
   "outputs": [
    {
     "name": "stdout",
     "output_type": "stream",
     "text": [
      "1 3 6 10 15 21 28 36 45 55\n"
     ]
    }
   ],
   "source": [
    "n=10\n",
    "gen1=(sum_list(range(1,num+1)) for num in range(1,n+1))\n",
    "print(*gen1)"
   ]
  },
  {
   "cell_type": "code",
   "execution_count": 43,
   "id": "a45ccb51",
   "metadata": {},
   "outputs": [
    {
     "data": {
      "text/plain": [
       "[0, 8, 2]"
      ]
     },
     "execution_count": 43,
     "metadata": {},
     "output_type": "execute_result"
    }
   ],
   "source": [
    "#excercise:\n",
    "#1. \n",
    "x=[5,10,3,2,8,0]\n",
    "x[:2:-1]"
   ]
  },
  {
   "cell_type": "code",
   "execution_count": 44,
   "id": "5bb603dc",
   "metadata": {},
   "outputs": [
    {
     "data": {
      "text/plain": [
       "[2, 3, 4, 5]"
      ]
     },
     "execution_count": 44,
     "metadata": {},
     "output_type": "execute_result"
    }
   ],
   "source": [
    "a=[1,2,3,4]\n",
    "[i+1 for i in a]"
   ]
  },
  {
   "cell_type": "code",
   "execution_count": 45,
   "id": "5a6e9115",
   "metadata": {},
   "outputs": [],
   "source": [
    "d={1:\"good\", 2:\"morning\",3:'john'}"
   ]
  },
  {
   "cell_type": "code",
   "execution_count": 52,
   "id": "c6f50532",
   "metadata": {},
   "outputs": [
    {
     "name": "stdout",
     "output_type": "stream",
     "text": [
      "Good\n",
      "\n",
      "Morning\n",
      "\n",
      "John\n",
      "\n"
     ]
    }
   ],
   "source": [
    "for value in d.values():\n",
    "    print(value.title())\n",
    "    print()"
   ]
  },
  {
   "cell_type": "code",
   "execution_count": 55,
   "id": "620d5438",
   "metadata": {},
   "outputs": [
    {
     "name": "stdout",
     "output_type": "stream",
     "text": [
      "1\n",
      "2\n",
      "3\n"
     ]
    }
   ],
   "source": [
    "for key,val in d.items():\n",
    "    print(key)\n",
    "    "
   ]
  },
  {
   "cell_type": "code",
   "execution_count": 59,
   "id": "a7178b5a",
   "metadata": {},
   "outputs": [
    {
     "name": "stdout",
     "output_type": "stream",
     "text": [
      "(1, 'a', 'a1')\n",
      "(2, 'b', 'b1')\n",
      "(3, 'c', 'c1')\n"
     ]
    }
   ],
   "source": [
    "list_a=[1,2,3,4]\n",
    "list_b=['a','b','c','d']\n",
    "list_c=['a1','b1','c1']\n",
    "for i in zip(list_a,list_b,list_c):\n",
    "    print(i)"
   ]
  },
  {
   "cell_type": "code",
   "execution_count": 61,
   "id": "13703eb6",
   "metadata": {},
   "outputs": [
    {
     "data": {
      "text/plain": [
       "{979921: 'jane', 989043: 'nika', 933043: 'kian', 932902: 'mira'}"
      ]
     },
     "execution_count": 61,
     "metadata": {},
     "output_type": "execute_result"
    }
   ],
   "source": [
    "phone=[979921,989043,933043,932902]\n",
    "student=('jane','nika','kian','mira')\n",
    "di=dict(zip(phone,student))\n",
    "di"
   ]
  },
  {
   "cell_type": "code",
   "execution_count": 62,
   "id": "56913389",
   "metadata": {},
   "outputs": [
    {
     "data": {
      "text/plain": [
       "[(0, 0, 0),\n",
       " (1, 1, 1),\n",
       " (2, 4, 8),\n",
       " (3, 9, 27),\n",
       " (4, 16, 64),\n",
       " (5, 25, 125),\n",
       " (6, 36, 216),\n",
       " (7, 49, 343),\n",
       " (8, 64, 512),\n",
       " (9, 81, 729)]"
      ]
     },
     "execution_count": 62,
     "metadata": {},
     "output_type": "execute_result"
    }
   ],
   "source": [
    "[(i,i**2,i**3) for i in range(10)]"
   ]
  },
  {
   "cell_type": "code",
   "execution_count": 65,
   "id": "da97ef74",
   "metadata": {},
   "outputs": [
    {
     "data": {
      "text/plain": [
       "[100, 20, 30, 405, 23]"
      ]
     },
     "execution_count": 65,
     "metadata": {},
     "output_type": "execute_result"
    }
   ],
   "source": [
    "dict1={'A1':100,'B1':20,'A2':30,'B2':405,'A3':23}\n",
    "[dict1[i] for i in dict1.keys()]"
   ]
  },
  {
   "cell_type": "code",
   "execution_count": null,
   "id": "af486df8",
   "metadata": {},
   "outputs": [],
   "source": []
  }
 ],
 "metadata": {
  "kernelspec": {
   "display_name": "SCILEARN-KERNAL",
   "language": "python",
   "name": "scilearn-kernal"
  },
  "language_info": {
   "codemirror_mode": {
    "name": "ipython",
    "version": 3
   },
   "file_extension": ".py",
   "mimetype": "text/x-python",
   "name": "python",
   "nbconvert_exporter": "python",
   "pygments_lexer": "ipython3",
   "version": "3.11.4"
  }
 },
 "nbformat": 4,
 "nbformat_minor": 5
}
