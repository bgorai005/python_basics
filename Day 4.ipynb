{
 "cells": [
  {
   "cell_type": "markdown",
   "id": "e3659416",
   "metadata": {},
   "source": [
    "# Numpy"
   ]
  },
  {
   "cell_type": "code",
   "execution_count": 4,
   "id": "e922c405",
   "metadata": {},
   "outputs": [],
   "source": [
    "# It is a fundamental pacakage that provides efficient storage and operation for multidimensional arrays. At first we import this \n",
    "# pacakge using alias\n",
    "import numpy as np"
   ]
  },
  {
   "cell_type": "code",
   "execution_count": 2,
   "id": "93968f22",
   "metadata": {},
   "outputs": [
    {
     "data": {
      "text/plain": [
       "[[1, 2, 4], [4, 5, 6]]"
      ]
     },
     "execution_count": 2,
     "metadata": {},
     "output_type": "execute_result"
    }
   ],
   "source": [
    "# to create a numpy array from a python list or tuple,use np.array()\n",
    "list1=[[1,2,4],[4,5,6]]\n",
    "list1"
   ]
  },
  {
   "cell_type": "code",
   "execution_count": 3,
   "id": "3425d2af",
   "metadata": {},
   "outputs": [],
   "source": [
    "a1=np.array(list1)"
   ]
  },
  {
   "cell_type": "code",
   "execution_count": 4,
   "id": "bd12aef5",
   "metadata": {},
   "outputs": [
    {
     "data": {
      "text/plain": [
       "array([[1, 2, 4],\n",
       "       [4, 5, 6]])"
      ]
     },
     "execution_count": 4,
     "metadata": {},
     "output_type": "execute_result"
    }
   ],
   "source": [
    "a1"
   ]
  },
  {
   "cell_type": "code",
   "execution_count": 5,
   "id": "919b13d9",
   "metadata": {},
   "outputs": [
    {
     "data": {
      "text/plain": [
       "numpy.ndarray"
      ]
     },
     "execution_count": 5,
     "metadata": {},
     "output_type": "execute_result"
    }
   ],
   "source": [
    "type(a1)"
   ]
  },
  {
   "cell_type": "markdown",
   "id": "4ef7d28c",
   "metadata": {},
   "source": [
    "# numpy array attributes:"
   ]
  },
  {
   "cell_type": "code",
   "execution_count": 7,
   "id": "1c4f4b8c",
   "metadata": {},
   "outputs": [
    {
     "data": {
      "text/plain": [
       "dtype('int64')"
      ]
     },
     "execution_count": 7,
     "metadata": {},
     "output_type": "execute_result"
    }
   ],
   "source": [
    "\n",
    "#dtype:we can check the  type of the elements of an array with dtype\n",
    "a1.dtype"
   ]
  },
  {
   "cell_type": "code",
   "execution_count": 9,
   "id": "7ca664c8",
   "metadata": {},
   "outputs": [],
   "source": [
    "a2=[[2.2,3.4],[4,5]]\n",
    "a3=np.array(a2)"
   ]
  },
  {
   "cell_type": "code",
   "execution_count": 13,
   "id": "01cc86ee",
   "metadata": {},
   "outputs": [
    {
     "data": {
      "text/plain": [
       "dtype('float32')"
      ]
     },
     "execution_count": 13,
     "metadata": {},
     "output_type": "execute_result"
    }
   ],
   "source": [
    "a3.dtype# observe that dtype of an array having homogeneity in array elements, same dtype, we can also set it.\n",
    "a4=np.array(list1,dtype='float32')\n",
    "a4.dtype"
   ]
  },
  {
   "cell_type": "code",
   "execution_count": 14,
   "id": "9dc2be74",
   "metadata": {},
   "outputs": [
    {
     "data": {
      "text/plain": [
       "array([[2, 3],\n",
       "       [4, 5]])"
      ]
     },
     "execution_count": 14,
     "metadata": {},
     "output_type": "execute_result"
    }
   ],
   "source": [
    "# we can recast the datatype by astype() method\n",
    "a5=a3.astype(int)\n",
    "a5"
   ]
  },
  {
   "cell_type": "code",
   "execution_count": 15,
   "id": "9d97ef63",
   "metadata": {},
   "outputs": [
    {
     "data": {
      "text/plain": [
       "4"
      ]
     },
     "execution_count": 15,
     "metadata": {},
     "output_type": "execute_result"
    }
   ],
   "source": [
    "# size: return the number of elements of an array\n",
    "a3.size"
   ]
  },
  {
   "cell_type": "code",
   "execution_count": 16,
   "id": "77c0c187",
   "metadata": {},
   "outputs": [
    {
     "data": {
      "text/plain": [
       "2"
      ]
     },
     "execution_count": 16,
     "metadata": {},
     "output_type": "execute_result"
    }
   ],
   "source": [
    "#ndim: returns the number of dimension\n",
    "a4.ndim"
   ]
  },
  {
   "cell_type": "code",
   "execution_count": 17,
   "id": "9226556d",
   "metadata": {},
   "outputs": [
    {
     "data": {
      "text/plain": [
       "(2, 2)"
      ]
     },
     "execution_count": 17,
     "metadata": {},
     "output_type": "execute_result"
    }
   ],
   "source": [
    "#shape: number of element of each dimension\n",
    "a3.shape"
   ]
  },
  {
   "cell_type": "code",
   "execution_count": 18,
   "id": "6d4f04e6",
   "metadata": {},
   "outputs": [],
   "source": [
    "#note there is a diiference between 1d array and 2d array with one row or column\n",
    "a6=np.arange(6)"
   ]
  },
  {
   "cell_type": "code",
   "execution_count": 19,
   "id": "01ad038d",
   "metadata": {},
   "outputs": [
    {
     "data": {
      "text/plain": [
       "array([0, 1, 2, 3, 4, 5])"
      ]
     },
     "execution_count": 19,
     "metadata": {},
     "output_type": "execute_result"
    }
   ],
   "source": [
    "a6"
   ]
  },
  {
   "cell_type": "code",
   "execution_count": 20,
   "id": "6223b9ec",
   "metadata": {},
   "outputs": [
    {
     "data": {
      "text/plain": [
       "(6,)"
      ]
     },
     "execution_count": 20,
     "metadata": {},
     "output_type": "execute_result"
    }
   ],
   "source": [
    "a6.shape"
   ]
  },
  {
   "cell_type": "code",
   "execution_count": 32,
   "id": "f80ea886",
   "metadata": {},
   "outputs": [
    {
     "data": {
      "text/plain": [
       "(1, 6)"
      ]
     },
     "execution_count": 32,
     "metadata": {},
     "output_type": "execute_result"
    }
   ],
   "source": [
    "a7=np.array([[0,1,2,3,4,5]])\n",
    "a7.shape"
   ]
  },
  {
   "cell_type": "code",
   "execution_count": 31,
   "id": "bda1272c",
   "metadata": {},
   "outputs": [
    {
     "data": {
      "text/plain": [
       "(6, 1)"
      ]
     },
     "execution_count": 31,
     "metadata": {},
     "output_type": "execute_result"
    }
   ],
   "source": [
    "a7.T.shape\n"
   ]
  },
  {
   "cell_type": "code",
   "execution_count": 33,
   "id": "ef20aaa5",
   "metadata": {},
   "outputs": [
    {
     "data": {
      "text/plain": [
       "array([[0],\n",
       "       [1],\n",
       "       [2],\n",
       "       [3],\n",
       "       [4],\n",
       "       [5]])"
      ]
     },
     "execution_count": 33,
     "metadata": {},
     "output_type": "execute_result"
    }
   ],
   "source": [
    "a7.T"
   ]
  },
  {
   "cell_type": "markdown",
   "id": "b819c41c",
   "metadata": {},
   "source": [
    "# numpy built in function for array creation \n"
   ]
  },
  {
   "cell_type": "markdown",
   "id": "45084cff",
   "metadata": {},
   "source": [
    "#zeros():create an array of given shapes filled with zeros\n",
    "a=np.zeros(5)\n",
    "a"
   ]
  },
  {
   "cell_type": "code",
   "execution_count": 36,
   "id": "6d1607ba",
   "metadata": {},
   "outputs": [
    {
     "data": {
      "text/plain": [
       "array([[0, 0, 0, 0],\n",
       "       [0, 0, 0, 0],\n",
       "       [0, 0, 0, 0]])"
      ]
     },
     "execution_count": 36,
     "metadata": {},
     "output_type": "execute_result"
    }
   ],
   "source": [
    "b=np.zeros((3,4),dtype='int_')\n",
    "b"
   ]
  },
  {
   "cell_type": "code",
   "execution_count": 37,
   "id": "815930c1",
   "metadata": {},
   "outputs": [
    {
     "data": {
      "text/plain": [
       "array([[1., 1., 1., 1.],\n",
       "       [1., 1., 1., 1.]])"
      ]
     },
     "execution_count": 37,
     "metadata": {},
     "output_type": "execute_result"
    }
   ],
   "source": [
    "#ones():create an array of given shapes filled with ones\n",
    "c=np.ones((2,4))\n",
    "c"
   ]
  },
  {
   "cell_type": "code",
   "execution_count": 39,
   "id": "2dc76e42",
   "metadata": {},
   "outputs": [
    {
     "data": {
      "text/plain": [
       "array([[3.4, 3.4, 3.4, 3.4],\n",
       "       [3.4, 3.4, 3.4, 3.4],\n",
       "       [3.4, 3.4, 3.4, 3.4]])"
      ]
     },
     "execution_count": 39,
     "metadata": {},
     "output_type": "execute_result"
    }
   ],
   "source": [
    "#full():creates an array of given shape with value\n",
    "a=np.full((3,4),3.4)\n",
    "a"
   ]
  },
  {
   "cell_type": "code",
   "execution_count": 41,
   "id": "7c2a7835",
   "metadata": {},
   "outputs": [
    {
     "data": {
      "text/plain": [
       "array([[1., 0., 0.],\n",
       "       [0., 1., 0.],\n",
       "       [0., 0., 1.]])"
      ]
     },
     "execution_count": 41,
     "metadata": {},
     "output_type": "execute_result"
    }
   ],
   "source": [
    "#eye():create an identity array\n",
    "d=np.eye(3)\n",
    "d"
   ]
  },
  {
   "cell_type": "code",
   "execution_count": 42,
   "id": "bcabe890",
   "metadata": {},
   "outputs": [],
   "source": [
    "#arange(start,stop,step): creates evenly spaced values.\n",
    "x=np.arange(2,20,3)"
   ]
  },
  {
   "cell_type": "code",
   "execution_count": 43,
   "id": "6d562f61",
   "metadata": {},
   "outputs": [
    {
     "data": {
      "text/plain": [
       "array([ 2,  5,  8, 11, 14, 17])"
      ]
     },
     "execution_count": 43,
     "metadata": {},
     "output_type": "execute_result"
    }
   ],
   "source": [
    "x"
   ]
  },
  {
   "cell_type": "code",
   "execution_count": 44,
   "id": "4651308b",
   "metadata": {},
   "outputs": [],
   "source": [
    "#random.normal(loc,scale,size) :creates a array of shape size with elements bein g independent realization of a normal variable\n",
    "# mean loc and standard deviation scale\n",
    "y= np.random.normal(0,1,size=(3,3))"
   ]
  },
  {
   "cell_type": "code",
   "execution_count": 45,
   "id": "8b968acd",
   "metadata": {},
   "outputs": [
    {
     "data": {
      "text/plain": [
       "array([[ 1.02875264e-04, -1.95812496e+00, -1.16331079e-01],\n",
       "       [-7.66072566e-01, -9.48950949e-02,  1.12783351e+00],\n",
       "       [ 9.49125142e-01, -3.50479523e-01,  3.73852421e-01]])"
      ]
     },
     "execution_count": 45,
     "metadata": {},
     "output_type": "execute_result"
    }
   ],
   "source": [
    "y"
   ]
  },
  {
   "cell_type": "markdown",
   "id": "594738bd",
   "metadata": {},
   "source": [
    "# array indexing"
   ]
  },
  {
   "cell_type": "code",
   "execution_count": 47,
   "id": "ee3d13fc",
   "metadata": {},
   "outputs": [
    {
     "data": {
      "text/plain": [
       "array([[3.4, 3.4, 3.4, 3.4],\n",
       "       [3.4, 3.4, 3.4, 3.4],\n",
       "       [3.4, 3.4, 3.4, 3.4]])"
      ]
     },
     "execution_count": 47,
     "metadata": {},
     "output_type": "execute_result"
    }
   ],
   "source": [
    "# in indexing arrays , it is important if we index a multidimensional array with fewer than dimension it returns a sub-array.\n",
    "a"
   ]
  },
  {
   "cell_type": "code",
   "execution_count": 48,
   "id": "2a9ccaf8",
   "metadata": {},
   "outputs": [
    {
     "data": {
      "text/plain": [
       "array([3.4, 3.4, 3.4, 3.4])"
      ]
     },
     "execution_count": 48,
     "metadata": {},
     "output_type": "execute_result"
    }
   ],
   "source": [
    "a[1]"
   ]
  },
  {
   "cell_type": "code",
   "execution_count": 49,
   "id": "400305d3",
   "metadata": {},
   "outputs": [
    {
     "data": {
      "text/plain": [
       "np.float64(3.4)"
      ]
     },
     "execution_count": 49,
     "metadata": {},
     "output_type": "execute_result"
    }
   ],
   "source": [
    "a[1][2]"
   ]
  },
  {
   "cell_type": "code",
   "execution_count": 50,
   "id": "6d7d8071",
   "metadata": {},
   "outputs": [
    {
     "data": {
      "text/plain": [
       "np.float64(3.4)"
      ]
     },
     "execution_count": 50,
     "metadata": {},
     "output_type": "execute_result"
    }
   ],
   "source": [
    "# we already seen this type of indexing .numpy suuports multidimensional indexing\n",
    "a[1,0]"
   ]
  },
  {
   "cell_type": "code",
   "execution_count": 51,
   "id": "c8367da5",
   "metadata": {},
   "outputs": [
    {
     "data": {
      "text/plain": [
       "array([[3.4, 3.4, 3.4],\n",
       "       [3.4, 3.4, 3.4]])"
      ]
     },
     "execution_count": 51,
     "metadata": {},
     "output_type": "execute_result"
    }
   ],
   "source": [
    "# we can slicing the array as we ahve previously seen for list or tuples.\n",
    "a[:2,1:]"
   ]
  },
  {
   "cell_type": "code",
   "execution_count": 53,
   "id": "8c540206",
   "metadata": {},
   "outputs": [
    {
     "data": {
      "text/plain": [
       "array([[3.4, 3.4],\n",
       "       [3.4, 3.4]])"
      ]
     },
     "execution_count": 53,
     "metadata": {},
     "output_type": "execute_result"
    }
   ],
   "source": [
    "# one main difference between numpy slicing and list slicing is that array slicing provides a view of original list where as\n",
    "# list slicing copies the list. If a subarray comes from slicing and modified it , it also modified the original array but\n",
    "#in list slicing this not happens as we seen it earlier\n",
    "e=a[:-3:-1,::2]\n",
    "e"
   ]
  },
  {
   "cell_type": "code",
   "execution_count": 55,
   "id": "1d114b69",
   "metadata": {},
   "outputs": [
    {
     "data": {
      "text/plain": [
       "array([[3.4, 3.4, 3.4, 3.4],\n",
       "       [3.4, 3.4, 3.4, 3.4],\n",
       "       [3.4, 3.4, 5. , 3.4]])"
      ]
     },
     "execution_count": 55,
     "metadata": {},
     "output_type": "execute_result"
    }
   ],
   "source": [
    "e[0,1]=5\n",
    "a#the change  appears a too"
   ]
  },
  {
   "cell_type": "code",
   "execution_count": 56,
   "id": "1d200c2c",
   "metadata": {},
   "outputs": [
    {
     "data": {
      "text/plain": [
       "array([[3.4, 5. ],\n",
       "       [3.4, 3.4]])"
      ]
     },
     "execution_count": 56,
     "metadata": {},
     "output_type": "execute_result"
    }
   ],
   "source": [
    "# to change this default behaviour , we use: copy() and array() constructor method\n",
    "e=a[:-3:-1,::2].copy()\n",
    "e"
   ]
  },
  {
   "cell_type": "code",
   "execution_count": 57,
   "id": "f9f811bf",
   "metadata": {},
   "outputs": [
    {
     "data": {
      "text/plain": [
       "array([[3.4, 3.4, 3.4, 3.4],\n",
       "       [3.4, 3.4, 3.4, 3.4],\n",
       "       [3.4, 3.4, 5. , 3.4]])"
      ]
     },
     "execution_count": 57,
     "metadata": {},
     "output_type": "execute_result"
    }
   ],
   "source": [
    "e[1,1]=6\n",
    "a# the change does not appear not in a "
   ]
  },
  {
   "cell_type": "code",
   "execution_count": 61,
   "id": "f2daa180",
   "metadata": {},
   "outputs": [
    {
     "data": {
      "text/plain": [
       "array([[3.4, 3.4, 3.4, 3.4],\n",
       "       [3.4, 3.4, 3.4, 3.4],\n",
       "       [3.4, 3.4, 5. , 3.4]])"
      ]
     },
     "execution_count": 61,
     "metadata": {},
     "output_type": "execute_result"
    }
   ],
   "source": [
    "e=np.array(a[:-3:-1,::2])\n",
    "e[1,1]=7\n",
    "\n",
    "a# the change does not appear not in a"
   ]
  },
  {
   "cell_type": "code",
   "execution_count": 1,
   "id": "1e459f8d",
   "metadata": {},
   "outputs": [],
   "source": [
    "#indexing array with other array\n",
    "f=[i for i in range(1,29,2)]"
   ]
  },
  {
   "cell_type": "code",
   "execution_count": 5,
   "id": "212f706a",
   "metadata": {},
   "outputs": [],
   "source": [
    "g=np.array(f)"
   ]
  },
  {
   "cell_type": "code",
   "execution_count": 13,
   "id": "e02593c3",
   "metadata": {},
   "outputs": [],
   "source": [
    "c=np.arange(10,5,-1)"
   ]
  },
  {
   "cell_type": "code",
   "execution_count": 14,
   "id": "cb690a0f",
   "metadata": {},
   "outputs": [
    {
     "name": "stdout",
     "output_type": "stream",
     "text": [
      "g=[ 1  3  5  7  9 11 13 15 17 19 21 23 25 27]\n",
      "c=[10  9  8  7  6]\n",
      "g[c]=[21 19 17 15 13]\n"
     ]
    }
   ],
   "source": [
    "print('g='+str(g)+'\\n'+'c='+str(c)+'\\n'+'g[c]='+str(g[c]))"
   ]
  },
  {
   "cell_type": "code",
   "execution_count": 15,
   "id": "6ae942c2",
   "metadata": {},
   "outputs": [],
   "source": [
    "#index must be integers "
   ]
  },
  {
   "cell_type": "markdown",
   "id": "fe4b8be6",
   "metadata": {},
   "source": [
    "# Reshaping arrays"
   ]
  },
  {
   "cell_type": "code",
   "execution_count": 16,
   "id": "048be488",
   "metadata": {},
   "outputs": [],
   "source": [
    "#one major difference between numpy array and the list is that size of an array once created is fixed, but this is not case for \n",
    "# list. But we can change the shape of an array  by using reshape() method."
   ]
  },
  {
   "cell_type": "code",
   "execution_count": 20,
   "id": "4144a0b9",
   "metadata": {},
   "outputs": [
    {
     "ename": "ValueError",
     "evalue": "cannot reshape array of size 14 into shape (2,10)",
     "output_type": "error",
     "traceback": [
      "\u001b[1;31m---------------------------------------------------------------------------\u001b[0m",
      "\u001b[1;31mValueError\u001b[0m                                Traceback (most recent call last)",
      "Cell \u001b[1;32mIn[20], line 1\u001b[0m\n\u001b[1;32m----> 1\u001b[0m b\u001b[38;5;241m=\u001b[39m\u001b[43mg\u001b[49m\u001b[38;5;241;43m.\u001b[39;49m\u001b[43mreshape\u001b[49m\u001b[43m(\u001b[49m\u001b[38;5;241;43m2\u001b[39;49m\u001b[43m,\u001b[49m\u001b[38;5;241;43m10\u001b[39;49m\u001b[43m)\u001b[49m\n\u001b[0;32m      2\u001b[0m b\n",
      "\u001b[1;31mValueError\u001b[0m: cannot reshape array of size 14 into shape (2,10)"
     ]
    }
   ],
   "source": [
    "b=g.reshape(2,10)# this through an error because number of elements should be same.\n",
    "b"
   ]
  },
  {
   "cell_type": "code",
   "execution_count": 21,
   "id": "40cb15fa",
   "metadata": {},
   "outputs": [
    {
     "data": {
      "text/plain": [
       "array([[ 1,  3,  5,  7,  9, 11, 13],\n",
       "       [15, 17, 19, 21, 23, 25, 27]])"
      ]
     },
     "execution_count": 21,
     "metadata": {},
     "output_type": "execute_result"
    }
   ],
   "source": [
    "b=g.reshape(2,7)\n",
    "b"
   ]
  },
  {
   "cell_type": "code",
   "execution_count": 23,
   "id": "c8c1c004",
   "metadata": {},
   "outputs": [
    {
     "data": {
      "text/plain": [
       "array([ 1,  2,  3,  4,  5,  6,  7,  8,  9, 10, 11, 12, 13, 14, 15, 16, 17,\n",
       "       18, 19, 20])"
      ]
     },
     "execution_count": 23,
     "metadata": {},
     "output_type": "execute_result"
    }
   ],
   "source": [
    "#now if you do not know the no of elemts in each row you can provide -1, numpy will determine the elements through axis.\n",
    "a=np.arange(1,21)\n",
    "a"
   ]
  },
  {
   "cell_type": "code",
   "execution_count": 25,
   "id": "02d14d9a",
   "metadata": {},
   "outputs": [
    {
     "data": {
      "text/plain": [
       "array([[ 1,  2,  3,  4],\n",
       "       [ 5,  6,  7,  8],\n",
       "       [ 9, 10, 11, 12],\n",
       "       [13, 14, 15, 16],\n",
       "       [17, 18, 19, 20]])"
      ]
     },
     "execution_count": 25,
     "metadata": {},
     "output_type": "execute_result"
    }
   ],
   "source": [
    "x=a.reshape(5,-1)\n",
    "x"
   ]
  },
  {
   "cell_type": "code",
   "execution_count": 28,
   "id": "c4f3801e",
   "metadata": {},
   "outputs": [
    {
     "data": {
      "text/plain": [
       "array([[ 1,  2,  3,  4,  5],\n",
       "       [ 6,  7,  8,  9, 10],\n",
       "       [11, 12, 13, 14, 15],\n",
       "       [16, 17, 18, 19, 20]])"
      ]
     },
     "execution_count": 28,
     "metadata": {},
     "output_type": "execute_result"
    }
   ],
   "source": [
    "y=a.reshape(-1,5)\n",
    "y"
   ]
  },
  {
   "cell_type": "code",
   "execution_count": 29,
   "id": "9bda0ebf",
   "metadata": {},
   "outputs": [
    {
     "data": {
      "text/plain": [
       "array([ 1,  2,  3,  4,  5,  6,  7,  8,  9, 10, 11, 12, 13, 14, 15, 16, 17,\n",
       "       18, 19, 20])"
      ]
     },
     "execution_count": 29,
     "metadata": {},
     "output_type": "execute_result"
    }
   ],
   "source": [
    "y.reshape(-1)"
   ]
  },
  {
   "cell_type": "code",
   "execution_count": 31,
   "id": "5939b843",
   "metadata": {},
   "outputs": [
    {
     "data": {
      "text/plain": [
       "array([ 1,  2,  3,  4,  5,  6,  7,  8,  9, 10, 11, 12, 13, 14, 15, 16, 17,\n",
       "       18, 19, 20])"
      ]
     },
     "execution_count": 31,
     "metadata": {},
     "output_type": "execute_result"
    }
   ],
   "source": [
    "x.ravel()#instead of y.reshape(-1)"
   ]
  },
  {
   "cell_type": "code",
   "execution_count": 35,
   "id": "1b11458a",
   "metadata": {},
   "outputs": [],
   "source": [
    "#ocassionally it is required to convert the 1D array to 2d array with one column or by one row.\n",
    "#1.by using reshape() 2. using newaxis with slicing\n",
    "d=np.arange(5)"
   ]
  },
  {
   "cell_type": "code",
   "execution_count": 33,
   "id": "d3fa5d91",
   "metadata": {},
   "outputs": [
    {
     "data": {
      "text/plain": [
       "array([[0],\n",
       "       [1],\n",
       "       [2],\n",
       "       [3],\n",
       "       [4]])"
      ]
     },
     "execution_count": 33,
     "metadata": {},
     "output_type": "execute_result"
    }
   ],
   "source": [
    "d.reshape(-1,1)"
   ]
  },
  {
   "cell_type": "code",
   "execution_count": 37,
   "id": "84a2e5ba",
   "metadata": {},
   "outputs": [
    {
     "data": {
      "text/plain": [
       "array([[0],\n",
       "       [1],\n",
       "       [2],\n",
       "       [3],\n",
       "       [4]])"
      ]
     },
     "execution_count": 37,
     "metadata": {},
     "output_type": "execute_result"
    }
   ],
   "source": [
    "d[:,np.newaxis]#instead of d.reshape(-1,1)"
   ]
  },
  {
   "cell_type": "code",
   "execution_count": 39,
   "id": "37882678",
   "metadata": {},
   "outputs": [
    {
     "data": {
      "text/plain": [
       "array([[0, 1, 2, 3, 4]])"
      ]
     },
     "execution_count": 39,
     "metadata": {},
     "output_type": "execute_result"
    }
   ],
   "source": [
    "d[np.newaxis,:]"
   ]
  },
  {
   "cell_type": "markdown",
   "id": "e6c7a79c",
   "metadata": {},
   "source": [
    "## Universal function"
   ]
  },
  {
   "cell_type": "code",
   "execution_count": 41,
   "id": "c282f50b",
   "metadata": {},
   "outputs": [],
   "source": [
    "# some binary universal function are:\n",
    "#np.subtract\n",
    "a=np.arange(1000)\n",
    "a=np.subtract(a,1)"
   ]
  },
  {
   "cell_type": "code",
   "execution_count": 42,
   "id": "8563e58b",
   "metadata": {},
   "outputs": [
    {
     "data": {
      "text/plain": [
       "array([ -1,   0,   1,   2,   3,   4,   5,   6,   7,   8,   9,  10,  11,\n",
       "        12,  13,  14,  15,  16,  17,  18,  19,  20,  21,  22,  23,  24,\n",
       "        25,  26,  27,  28,  29,  30,  31,  32,  33,  34,  35,  36,  37,\n",
       "        38,  39,  40,  41,  42,  43,  44,  45,  46,  47,  48,  49,  50,\n",
       "        51,  52,  53,  54,  55,  56,  57,  58,  59,  60,  61,  62,  63,\n",
       "        64,  65,  66,  67,  68,  69,  70,  71,  72,  73,  74,  75,  76,\n",
       "        77,  78,  79,  80,  81,  82,  83,  84,  85,  86,  87,  88,  89,\n",
       "        90,  91,  92,  93,  94,  95,  96,  97,  98,  99, 100, 101, 102,\n",
       "       103, 104, 105, 106, 107, 108, 109, 110, 111, 112, 113, 114, 115,\n",
       "       116, 117, 118, 119, 120, 121, 122, 123, 124, 125, 126, 127, 128,\n",
       "       129, 130, 131, 132, 133, 134, 135, 136, 137, 138, 139, 140, 141,\n",
       "       142, 143, 144, 145, 146, 147, 148, 149, 150, 151, 152, 153, 154,\n",
       "       155, 156, 157, 158, 159, 160, 161, 162, 163, 164, 165, 166, 167,\n",
       "       168, 169, 170, 171, 172, 173, 174, 175, 176, 177, 178, 179, 180,\n",
       "       181, 182, 183, 184, 185, 186, 187, 188, 189, 190, 191, 192, 193,\n",
       "       194, 195, 196, 197, 198, 199, 200, 201, 202, 203, 204, 205, 206,\n",
       "       207, 208, 209, 210, 211, 212, 213, 214, 215, 216, 217, 218, 219,\n",
       "       220, 221, 222, 223, 224, 225, 226, 227, 228, 229, 230, 231, 232,\n",
       "       233, 234, 235, 236, 237, 238, 239, 240, 241, 242, 243, 244, 245,\n",
       "       246, 247, 248, 249, 250, 251, 252, 253, 254, 255, 256, 257, 258,\n",
       "       259, 260, 261, 262, 263, 264, 265, 266, 267, 268, 269, 270, 271,\n",
       "       272, 273, 274, 275, 276, 277, 278, 279, 280, 281, 282, 283, 284,\n",
       "       285, 286, 287, 288, 289, 290, 291, 292, 293, 294, 295, 296, 297,\n",
       "       298, 299, 300, 301, 302, 303, 304, 305, 306, 307, 308, 309, 310,\n",
       "       311, 312, 313, 314, 315, 316, 317, 318, 319, 320, 321, 322, 323,\n",
       "       324, 325, 326, 327, 328, 329, 330, 331, 332, 333, 334, 335, 336,\n",
       "       337, 338, 339, 340, 341, 342, 343, 344, 345, 346, 347, 348, 349,\n",
       "       350, 351, 352, 353, 354, 355, 356, 357, 358, 359, 360, 361, 362,\n",
       "       363, 364, 365, 366, 367, 368, 369, 370, 371, 372, 373, 374, 375,\n",
       "       376, 377, 378, 379, 380, 381, 382, 383, 384, 385, 386, 387, 388,\n",
       "       389, 390, 391, 392, 393, 394, 395, 396, 397, 398, 399, 400, 401,\n",
       "       402, 403, 404, 405, 406, 407, 408, 409, 410, 411, 412, 413, 414,\n",
       "       415, 416, 417, 418, 419, 420, 421, 422, 423, 424, 425, 426, 427,\n",
       "       428, 429, 430, 431, 432, 433, 434, 435, 436, 437, 438, 439, 440,\n",
       "       441, 442, 443, 444, 445, 446, 447, 448, 449, 450, 451, 452, 453,\n",
       "       454, 455, 456, 457, 458, 459, 460, 461, 462, 463, 464, 465, 466,\n",
       "       467, 468, 469, 470, 471, 472, 473, 474, 475, 476, 477, 478, 479,\n",
       "       480, 481, 482, 483, 484, 485, 486, 487, 488, 489, 490, 491, 492,\n",
       "       493, 494, 495, 496, 497, 498, 499, 500, 501, 502, 503, 504, 505,\n",
       "       506, 507, 508, 509, 510, 511, 512, 513, 514, 515, 516, 517, 518,\n",
       "       519, 520, 521, 522, 523, 524, 525, 526, 527, 528, 529, 530, 531,\n",
       "       532, 533, 534, 535, 536, 537, 538, 539, 540, 541, 542, 543, 544,\n",
       "       545, 546, 547, 548, 549, 550, 551, 552, 553, 554, 555, 556, 557,\n",
       "       558, 559, 560, 561, 562, 563, 564, 565, 566, 567, 568, 569, 570,\n",
       "       571, 572, 573, 574, 575, 576, 577, 578, 579, 580, 581, 582, 583,\n",
       "       584, 585, 586, 587, 588, 589, 590, 591, 592, 593, 594, 595, 596,\n",
       "       597, 598, 599, 600, 601, 602, 603, 604, 605, 606, 607, 608, 609,\n",
       "       610, 611, 612, 613, 614, 615, 616, 617, 618, 619, 620, 621, 622,\n",
       "       623, 624, 625, 626, 627, 628, 629, 630, 631, 632, 633, 634, 635,\n",
       "       636, 637, 638, 639, 640, 641, 642, 643, 644, 645, 646, 647, 648,\n",
       "       649, 650, 651, 652, 653, 654, 655, 656, 657, 658, 659, 660, 661,\n",
       "       662, 663, 664, 665, 666, 667, 668, 669, 670, 671, 672, 673, 674,\n",
       "       675, 676, 677, 678, 679, 680, 681, 682, 683, 684, 685, 686, 687,\n",
       "       688, 689, 690, 691, 692, 693, 694, 695, 696, 697, 698, 699, 700,\n",
       "       701, 702, 703, 704, 705, 706, 707, 708, 709, 710, 711, 712, 713,\n",
       "       714, 715, 716, 717, 718, 719, 720, 721, 722, 723, 724, 725, 726,\n",
       "       727, 728, 729, 730, 731, 732, 733, 734, 735, 736, 737, 738, 739,\n",
       "       740, 741, 742, 743, 744, 745, 746, 747, 748, 749, 750, 751, 752,\n",
       "       753, 754, 755, 756, 757, 758, 759, 760, 761, 762, 763, 764, 765,\n",
       "       766, 767, 768, 769, 770, 771, 772, 773, 774, 775, 776, 777, 778,\n",
       "       779, 780, 781, 782, 783, 784, 785, 786, 787, 788, 789, 790, 791,\n",
       "       792, 793, 794, 795, 796, 797, 798, 799, 800, 801, 802, 803, 804,\n",
       "       805, 806, 807, 808, 809, 810, 811, 812, 813, 814, 815, 816, 817,\n",
       "       818, 819, 820, 821, 822, 823, 824, 825, 826, 827, 828, 829, 830,\n",
       "       831, 832, 833, 834, 835, 836, 837, 838, 839, 840, 841, 842, 843,\n",
       "       844, 845, 846, 847, 848, 849, 850, 851, 852, 853, 854, 855, 856,\n",
       "       857, 858, 859, 860, 861, 862, 863, 864, 865, 866, 867, 868, 869,\n",
       "       870, 871, 872, 873, 874, 875, 876, 877, 878, 879, 880, 881, 882,\n",
       "       883, 884, 885, 886, 887, 888, 889, 890, 891, 892, 893, 894, 895,\n",
       "       896, 897, 898, 899, 900, 901, 902, 903, 904, 905, 906, 907, 908,\n",
       "       909, 910, 911, 912, 913, 914, 915, 916, 917, 918, 919, 920, 921,\n",
       "       922, 923, 924, 925, 926, 927, 928, 929, 930, 931, 932, 933, 934,\n",
       "       935, 936, 937, 938, 939, 940, 941, 942, 943, 944, 945, 946, 947,\n",
       "       948, 949, 950, 951, 952, 953, 954, 955, 956, 957, 958, 959, 960,\n",
       "       961, 962, 963, 964, 965, 966, 967, 968, 969, 970, 971, 972, 973,\n",
       "       974, 975, 976, 977, 978, 979, 980, 981, 982, 983, 984, 985, 986,\n",
       "       987, 988, 989, 990, 991, 992, 993, 994, 995, 996, 997, 998])"
      ]
     },
     "execution_count": 42,
     "metadata": {},
     "output_type": "execute_result"
    }
   ],
   "source": [
    "a"
   ]
  },
  {
   "cell_type": "code",
   "execution_count": 43,
   "id": "a070dd58",
   "metadata": {},
   "outputs": [],
   "source": [
    "# simmilary:np.add() for +\n",
    "# np.multiply for *\n",
    "# np.floor_divide for //\n",
    "# np.mod for %"
   ]
  },
  {
   "cell_type": "code",
   "execution_count": 44,
   "id": "c29acbda",
   "metadata": {},
   "outputs": [],
   "source": [
    "#some uniary functions\n",
    "#np.sum()\n",
    "#np.prod()\n",
    "#np.mean()\n",
    "#np.std()\n",
    "#np.sqrt()\n",
    "#np.log()\n",
    "#np.var()\n",
    "#np.min\n",
    "#np.max"
   ]
  },
  {
   "cell_type": "markdown",
   "id": "a721752f",
   "metadata": {},
   "source": [
    "## Broadcasting"
   ]
  },
  {
   "cell_type": "code",
   "execution_count": 45,
   "id": "3c8886d7",
   "metadata": {},
   "outputs": [],
   "source": [
    "#It is a set of rule that instructs Numpy how to treat arrays of different shapes and dimension during arithmetic operation."
   ]
  },
  {
   "cell_type": "code",
   "execution_count": 46,
   "id": "8df7e6ee",
   "metadata": {},
   "outputs": [
    {
     "data": {
      "text/plain": [
       "array([0, 1, 2, 3, 4, 5])"
      ]
     },
     "execution_count": 46,
     "metadata": {},
     "output_type": "execute_result"
    }
   ],
   "source": [
    "a=np.arange(6)\n",
    "a"
   ]
  },
  {
   "cell_type": "code",
   "execution_count": 47,
   "id": "e8b66690",
   "metadata": {},
   "outputs": [
    {
     "data": {
      "text/plain": [
       "array([2, 3, 4, 5, 6, 7])"
      ]
     },
     "execution_count": 47,
     "metadata": {},
     "output_type": "execute_result"
    }
   ],
   "source": [
    "b=a+2\n",
    "b"
   ]
  },
  {
   "cell_type": "markdown",
   "id": "3a66b664",
   "metadata": {},
   "source": [
    "# the rules of boradcasting\n",
    "## If two arrays are different dimensions dimension ones are added to the left of the shape of the array with fewer dimension to make them same\n",
    "\n",
    "## once dimesion are equal , the size of arrays in each dimesion must be equal or 1 in atleast one of them otherwise it raised an\n",
    "# error\n",
    "## If an error is not raised ,then the size of the output array in each dimension  is the maximum of array size in that dimension."
   ]
  },
  {
   "cell_type": "code",
   "execution_count": 56,
   "id": "4460e35c",
   "metadata": {},
   "outputs": [
    {
     "data": {
      "text/plain": [
       "array([[1., 1., 1., 1.],\n",
       "       [1., 1., 1., 1.]])"
      ]
     },
     "execution_count": 56,
     "metadata": {},
     "output_type": "execute_result"
    }
   ],
   "source": [
    "a=np.ones((2,4))\n",
    "a"
   ]
  },
  {
   "cell_type": "code",
   "execution_count": 57,
   "id": "61ae83cf",
   "metadata": {},
   "outputs": [
    {
     "data": {
      "text/plain": [
       "array([3, 7, 8, 6], dtype=int32)"
      ]
     },
     "execution_count": 57,
     "metadata": {},
     "output_type": "execute_result"
    }
   ],
   "source": [
    "b=np.random.randint(1,10,4)\n",
    "b"
   ]
  },
  {
   "cell_type": "code",
   "execution_count": 58,
   "id": "db62a5c8",
   "metadata": {},
   "outputs": [
    {
     "data": {
      "text/plain": [
       "(4,)"
      ]
     },
     "execution_count": 58,
     "metadata": {},
     "output_type": "execute_result"
    }
   ],
   "source": [
    "b.shape"
   ]
  },
  {
   "cell_type": "code",
   "execution_count": 59,
   "id": "9cd849b4",
   "metadata": {},
   "outputs": [
    {
     "name": "stdout",
     "output_type": "stream",
     "text": [
      "[[4. 8. 9. 7.]\n",
      " [4. 8. 9. 7.]]\n"
     ]
    }
   ],
   "source": [
    "print(a+b)"
   ]
  },
  {
   "cell_type": "markdown",
   "id": "32afd609",
   "metadata": {},
   "source": [
    "• By Rule 1, a single 1 is added to the left of b shape to make b a two-dimensional\n",
    "array as a; that is, we can think of b now as having shape (1, 4).\n",
    "• The shape of a is (2, 4) and the shape of b is (1, 4). Therefore, Rule 2 does not\n",
    "raise an error because the sizes in each dimension are either equal (here 4) or at\n",
    "least one of them is 1 (for example, 2 in a and 1 in b).\n",
    "• Rule 3 indicates that the size of the output is (max{2,1}, max{4,4}) so it is (2,\n",
    "4). This means that array b is streched along its axis 0 (the left element in a\n",
    "shape tuple) to match the size of a in that dimension."
   ]
  },
  {
   "cell_type": "code",
   "execution_count": 62,
   "id": "32a4c4c4",
   "metadata": {},
   "outputs": [
    {
     "name": "stdout",
     "output_type": "stream",
     "text": [
      "[[[0]\n",
      "  [1]\n",
      "  [2]\n",
      "  [3]]\n",
      "\n",
      " [[4]\n",
      "  [5]\n",
      "  [6]\n",
      "  [7]]]\n"
     ]
    },
    {
     "data": {
      "text/plain": [
       "(2, 4, 1)"
      ]
     },
     "execution_count": 62,
     "metadata": {},
     "output_type": "execute_result"
    }
   ],
   "source": [
    "a=np.arange(8).reshape(2,4,1)\n",
    "print(a)\n",
    "a.shape"
   ]
  },
  {
   "cell_type": "code",
   "execution_count": 66,
   "id": "32ad218c",
   "metadata": {},
   "outputs": [
    {
     "data": {
      "text/plain": [
       "(4,)"
      ]
     },
     "execution_count": 66,
     "metadata": {},
     "output_type": "execute_result"
    }
   ],
   "source": [
    "b=np.arange(4)\n",
    "b.shape"
   ]
  },
  {
   "cell_type": "code",
   "execution_count": 67,
   "id": "dd836e61",
   "metadata": {},
   "outputs": [
    {
     "name": "stdout",
     "output_type": "stream",
     "text": [
      "[[[ 0  1  2  3]\n",
      "  [ 1  2  3  4]\n",
      "  [ 2  3  4  5]\n",
      "  [ 3  4  5  6]]\n",
      "\n",
      " [[ 4  5  6  7]\n",
      "  [ 5  6  7  8]\n",
      "  [ 6  7  8  9]\n",
      "  [ 7  8  9 10]]]\n"
     ]
    }
   ],
   "source": [
    "print(a+b)"
   ]
  },
  {
   "cell_type": "markdown",
   "id": "c9b7244b",
   "metadata": {},
   "source": [
    "• By Rule 1, a 1 is added to the left of b shape to make it a 3-dimensional array\n",
    "as a; that is, we can think of b now as having shape (1, 1, 4).\n",
    "• The shape of a is (2, 4, 1) and the shape of b is (1, 1, 4). Therefore, Rule 2 does\n",
    "not raise an error because the sizes in each dimension are either equal or at least\n",
    "one of them is 1.\n",
    "• Rule 3 indicates that the size of the output is (max{2,1}, max{4,1}, max{1,4})\n",
    "so it is (2, 4, 4). This means that array a is streched along its axis 2 (the third\n",
    "element in its shape tuple) to make its size 4 (similar to b in that dimension), array\n",
    "b is streched along its axis 1 to make its size 4 (similar to a in that dimension),\n",
    "and finally array b is stretched along its axis 0 to make its size 2"
   ]
  },
  {
   "cell_type": "code",
   "execution_count": 72,
   "id": "831e3917",
   "metadata": {},
   "outputs": [
    {
     "name": "stdout",
     "output_type": "stream",
     "text": [
      "[[[0 1]\n",
      "  [2 3]]\n",
      "\n",
      " [[4 5]\n",
      "  [6 7]]]\n"
     ]
    },
    {
     "data": {
      "text/plain": [
       "(2, 2, 2)"
      ]
     },
     "execution_count": 72,
     "metadata": {},
     "output_type": "execute_result"
    }
   ],
   "source": [
    "m=np.arange(8).reshape(2,2,2)\n",
    "print(m)\n",
    "m.shape"
   ]
  },
  {
   "cell_type": "code",
   "execution_count": 73,
   "id": "39ae94a0",
   "metadata": {},
   "outputs": [
    {
     "data": {
      "text/plain": [
       "(4,)"
      ]
     },
     "execution_count": 73,
     "metadata": {},
     "output_type": "execute_result"
    }
   ],
   "source": [
    "b=np.arange(4)\n",
    "b.shape\n"
   ]
  },
  {
   "cell_type": "code",
   "execution_count": 74,
   "id": "96aa8282",
   "metadata": {},
   "outputs": [
    {
     "ename": "ValueError",
     "evalue": "operands could not be broadcast together with shapes (2,2,2) (4,) ",
     "output_type": "error",
     "traceback": [
      "\u001b[1;31m---------------------------------------------------------------------------\u001b[0m",
      "\u001b[1;31mValueError\u001b[0m                                Traceback (most recent call last)",
      "Cell \u001b[1;32mIn[74], line 1\u001b[0m\n\u001b[1;32m----> 1\u001b[0m \u001b[38;5;28mprint\u001b[39m(\u001b[43mm\u001b[49m\u001b[38;5;241;43m+\u001b[39;49m\u001b[43mb\u001b[49m)\n",
      "\u001b[1;31mValueError\u001b[0m: operands could not be broadcast together with shapes (2,2,2) (4,) "
     ]
    }
   ],
   "source": [
    "print(m+b)"
   ]
  },
  {
   "cell_type": "code",
   "execution_count": null,
   "id": "a9767e4e",
   "metadata": {},
   "outputs": [],
   "source": []
  }
 ],
 "metadata": {
  "kernelspec": {
   "display_name": "SCILEARN-KERNAL",
   "language": "python",
   "name": "scilearn-kernal"
  },
  "language_info": {
   "codemirror_mode": {
    "name": "ipython",
    "version": 3
   },
   "file_extension": ".py",
   "mimetype": "text/x-python",
   "name": "python",
   "nbconvert_exporter": "python",
   "pygments_lexer": "ipython3",
   "version": "3.11.4"
  }
 },
 "nbformat": 4,
 "nbformat_minor": 5
}
