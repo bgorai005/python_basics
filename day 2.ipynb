{
 "cells": [
  {
   "cell_type": "markdown",
   "id": "1803a683",
   "metadata": {},
   "source": [
    "# Modifying the elements on a list"
   ]
  },
  {
   "cell_type": "code",
   "execution_count": 9,
   "id": "daa44b05",
   "metadata": {},
   "outputs": [],
   "source": [
    "x=['1','madras','libary','machine','learning','unkonwn']"
   ]
  },
  {
   "cell_type": "code",
   "execution_count": 10,
   "id": "412dccde",
   "metadata": {},
   "outputs": [],
   "source": [
    "x.append('with')#append a value to the end of list"
   ]
  },
  {
   "cell_type": "code",
   "execution_count": 11,
   "id": "854a858c",
   "metadata": {},
   "outputs": [
    {
     "data": {
      "text/plain": [
       "['1', 'madras', 'libary', 'machine', 'learning', 'unkonwn', 'with']"
      ]
     },
     "execution_count": 11,
     "metadata": {},
     "output_type": "execute_result"
    }
   ],
   "source": [
    "x"
   ]
  },
  {
   "cell_type": "code",
   "execution_count": 12,
   "id": "2722d7b4",
   "metadata": {},
   "outputs": [
    {
     "data": {
      "text/plain": [
       "['madras', 'libary', 'machine', 'learning', 'unkonwn', 'with']"
      ]
     },
     "execution_count": 12,
     "metadata": {},
     "output_type": "execute_result"
    }
   ],
   "source": [
    "x.remove('1')#to remove the first matching element\n",
    "x"
   ]
  },
  {
   "cell_type": "code",
   "execution_count": 13,
   "id": "2ce5cf78",
   "metadata": {},
   "outputs": [],
   "source": [
    "y=[1,6,2,9,4]"
   ]
  },
  {
   "cell_type": "code",
   "execution_count": 16,
   "id": "58696a0c",
   "metadata": {},
   "outputs": [
    {
     "data": {
      "text/plain": [
       "[1, 2, 4, 6, 9]"
      ]
     },
     "execution_count": 16,
     "metadata": {},
     "output_type": "execute_result"
    }
   ],
   "source": [
    "y.sort()\n",
    "y"
   ]
  },
  {
   "cell_type": "code",
   "execution_count": 17,
   "id": "b715782f",
   "metadata": {},
   "outputs": [],
   "source": [
    "x.insert(2,'iit')#insert(position,value)"
   ]
  },
  {
   "cell_type": "code",
   "execution_count": 18,
   "id": "0481cc55",
   "metadata": {},
   "outputs": [
    {
     "data": {
      "text/plain": [
       "['madras', 'libary', 'iit', 'machine', 'learning', 'unkonwn', 'with']"
      ]
     },
     "execution_count": 18,
     "metadata": {},
     "output_type": "execute_result"
    }
   ],
   "source": [
    "x"
   ]
  },
  {
   "cell_type": "code",
   "execution_count": 20,
   "id": "ad994057",
   "metadata": {},
   "outputs": [
    {
     "name": "stdout",
     "output_type": "stream",
     "text": [
      "libary\n"
     ]
    }
   ],
   "source": [
    "print(x.pop(0))#pop method removes the element and return the element at specified position "
   ]
  },
  {
   "cell_type": "code",
   "execution_count": 21,
   "id": "3ba1840a",
   "metadata": {},
   "outputs": [],
   "source": [
    "del y[1]"
   ]
  },
  {
   "cell_type": "code",
   "execution_count": 22,
   "id": "fce44a6f",
   "metadata": {},
   "outputs": [
    {
     "data": {
      "text/plain": [
       "'with'"
      ]
     },
     "execution_count": 22,
     "metadata": {},
     "output_type": "execute_result"
    }
   ],
   "source": [
    "x.pop()#by default the position is -1"
   ]
  },
  {
   "cell_type": "markdown",
   "id": "48f4c829",
   "metadata": {},
   "source": [
    "# Copying a list"
   ]
  },
  {
   "cell_type": "code",
   "execution_count": 23,
   "id": "2eaa74b4",
   "metadata": {},
   "outputs": [
    {
     "data": {
      "text/plain": [
       "['iit', 'machine', 'learning', 'unkonwn']"
      ]
     },
     "execution_count": 23,
     "metadata": {},
     "output_type": "execute_result"
    }
   ],
   "source": [
    "z=x\n",
    "z"
   ]
  },
  {
   "cell_type": "code",
   "execution_count": 24,
   "id": "a85555b3",
   "metadata": {},
   "outputs": [],
   "source": [
    "z.append('with')"
   ]
  },
  {
   "cell_type": "code",
   "execution_count": 25,
   "id": "da6756f2",
   "metadata": {},
   "outputs": [
    {
     "name": "stdout",
     "output_type": "stream",
     "text": [
      "['iit', 'machine', 'learning', 'unkonwn', 'with']\n",
      "['iit', 'machine', 'learning', 'unkonwn', 'with']\n"
     ]
    }
   ],
   "source": [
    "print(z)\n",
    "print(x)"
   ]
  },
  {
   "cell_type": "code",
   "execution_count": 26,
   "id": "905e4d73",
   "metadata": {},
   "outputs": [],
   "source": [
    "#so in the above example, when 'with' is append to z, it also appended to the list x. The way we written x=z means ,\n",
    "# the container points to the list z and to the list x are same. So, if we modify the list z , that change will appear also list x.\n",
    "#this is known as shallow copy. There are three simple ways to copy "
   ]
  },
  {
   "cell_type": "code",
   "execution_count": 27,
   "id": "6b35b838",
   "metadata": {},
   "outputs": [
    {
     "data": {
      "text/plain": [
       "['iit', 'machine', 'learning', 'unkonwn', 'with']"
      ]
     },
     "execution_count": 27,
     "metadata": {},
     "output_type": "execute_result"
    }
   ],
   "source": [
    "#slicing\n",
    "list1=x[:]\n",
    "list1"
   ]
  },
  {
   "cell_type": "code",
   "execution_count": 28,
   "id": "917d40e2",
   "metadata": {},
   "outputs": [
    {
     "name": "stdout",
     "output_type": "stream",
     "text": [
      "['iit', 'machine', 'learning', 'unkonwn', 'with', 3]\n",
      "['iit', 'machine', 'learning', 'unkonwn', 'with']\n"
     ]
    }
   ],
   "source": [
    "list1.append(3)\n",
    "print(list1)\n",
    "print(x)\n"
   ]
  },
  {
   "cell_type": "code",
   "execution_count": 29,
   "id": "02422796",
   "metadata": {},
   "outputs": [
    {
     "data": {
      "text/plain": [
       "['iit', 'machine', 'learning', 'unkonwn', 'with', 3]"
      ]
     },
     "execution_count": 29,
     "metadata": {},
     "output_type": "execute_result"
    }
   ],
   "source": [
    "#copy()\n",
    "list2=list1.copy()\n",
    "list2"
   ]
  },
  {
   "cell_type": "code",
   "execution_count": 30,
   "id": "3883ff66",
   "metadata": {},
   "outputs": [
    {
     "name": "stdout",
     "output_type": "stream",
     "text": [
      "['iit', 'machine', 'learning', 'unkonwn', 'with', 3, 5]\n",
      "['iit', 'machine', 'learning', 'unkonwn', 'with', 3]\n"
     ]
    }
   ],
   "source": [
    "list2.append(5)\n",
    "print(list2)\n",
    "print(list1)"
   ]
  },
  {
   "cell_type": "code",
   "execution_count": 32,
   "id": "0659c249",
   "metadata": {},
   "outputs": [
    {
     "name": "stdout",
     "output_type": "stream",
     "text": [
      "['iit', 'machine', 'learning', 'unkonwn', 'with', 3, 5]\n"
     ]
    }
   ],
   "source": [
    "#list() constructor\n",
    "list3=list(list2)\n",
    "print(list3)"
   ]
  },
  {
   "cell_type": "code",
   "execution_count": 33,
   "id": "f800fac7",
   "metadata": {},
   "outputs": [
    {
     "name": "stdout",
     "output_type": "stream",
     "text": [
      "Help on list object:\n",
      "\n",
      "class list(object)\n",
      " |  list(iterable=(), /)\n",
      " |  \n",
      " |  Built-in mutable sequence.\n",
      " |  \n",
      " |  If no argument is given, the constructor creates a new empty list.\n",
      " |  The argument must be an iterable if specified.\n",
      " |  \n",
      " |  Methods defined here:\n",
      " |  \n",
      " |  __add__(self, value, /)\n",
      " |      Return self+value.\n",
      " |  \n",
      " |  __contains__(self, key, /)\n",
      " |      Return key in self.\n",
      " |  \n",
      " |  __delitem__(self, key, /)\n",
      " |      Delete self[key].\n",
      " |  \n",
      " |  __eq__(self, value, /)\n",
      " |      Return self==value.\n",
      " |  \n",
      " |  __ge__(self, value, /)\n",
      " |      Return self>=value.\n",
      " |  \n",
      " |  __getattribute__(self, name, /)\n",
      " |      Return getattr(self, name).\n",
      " |  \n",
      " |  __getitem__(...)\n",
      " |      x.__getitem__(y) <==> x[y]\n",
      " |  \n",
      " |  __gt__(self, value, /)\n",
      " |      Return self>value.\n",
      " |  \n",
      " |  __iadd__(self, value, /)\n",
      " |      Implement self+=value.\n",
      " |  \n",
      " |  __imul__(self, value, /)\n",
      " |      Implement self*=value.\n",
      " |  \n",
      " |  __init__(self, /, *args, **kwargs)\n",
      " |      Initialize self.  See help(type(self)) for accurate signature.\n",
      " |  \n",
      " |  __iter__(self, /)\n",
      " |      Implement iter(self).\n",
      " |  \n",
      " |  __le__(self, value, /)\n",
      " |      Return self<=value.\n",
      " |  \n",
      " |  __len__(self, /)\n",
      " |      Return len(self).\n",
      " |  \n",
      " |  __lt__(self, value, /)\n",
      " |      Return self<value.\n",
      " |  \n",
      " |  __mul__(self, value, /)\n",
      " |      Return self*value.\n",
      " |  \n",
      " |  __ne__(self, value, /)\n",
      " |      Return self!=value.\n",
      " |  \n",
      " |  __repr__(self, /)\n",
      " |      Return repr(self).\n",
      " |  \n",
      " |  __reversed__(self, /)\n",
      " |      Return a reverse iterator over the list.\n",
      " |  \n",
      " |  __rmul__(self, value, /)\n",
      " |      Return value*self.\n",
      " |  \n",
      " |  __setitem__(self, key, value, /)\n",
      " |      Set self[key] to value.\n",
      " |  \n",
      " |  __sizeof__(self, /)\n",
      " |      Return the size of the list in memory, in bytes.\n",
      " |  \n",
      " |  append(self, object, /)\n",
      " |      Append object to the end of the list.\n",
      " |  \n",
      " |  clear(self, /)\n",
      " |      Remove all items from list.\n",
      " |  \n",
      " |  copy(self, /)\n",
      " |      Return a shallow copy of the list.\n",
      " |  \n",
      " |  count(self, value, /)\n",
      " |      Return number of occurrences of value.\n",
      " |  \n",
      " |  extend(self, iterable, /)\n",
      " |      Extend list by appending elements from the iterable.\n",
      " |  \n",
      " |  index(self, value, start=0, stop=9223372036854775807, /)\n",
      " |      Return first index of value.\n",
      " |      \n",
      " |      Raises ValueError if the value is not present.\n",
      " |  \n",
      " |  insert(self, index, object, /)\n",
      " |      Insert object before index.\n",
      " |  \n",
      " |  pop(self, index=-1, /)\n",
      " |      Remove and return item at index (default last).\n",
      " |      \n",
      " |      Raises IndexError if list is empty or index is out of range.\n",
      " |  \n",
      " |  remove(self, value, /)\n",
      " |      Remove first occurrence of value.\n",
      " |      \n",
      " |      Raises ValueError if the value is not present.\n",
      " |  \n",
      " |  reverse(self, /)\n",
      " |      Reverse *IN PLACE*.\n",
      " |  \n",
      " |  sort(self, /, *, key=None, reverse=False)\n",
      " |      Sort the list in ascending order and return None.\n",
      " |      \n",
      " |      The sort is in-place (i.e. the list itself is modified) and stable (i.e. the\n",
      " |      order of two equal elements is maintained).\n",
      " |      \n",
      " |      If a key function is given, apply it once to each list item and sort them,\n",
      " |      ascending or descending, according to their function values.\n",
      " |      \n",
      " |      The reverse flag can be set to sort in descending order.\n",
      " |  \n",
      " |  ----------------------------------------------------------------------\n",
      " |  Class methods defined here:\n",
      " |  \n",
      " |  __class_getitem__(...) from builtins.type\n",
      " |      See PEP 585\n",
      " |  \n",
      " |  ----------------------------------------------------------------------\n",
      " |  Static methods defined here:\n",
      " |  \n",
      " |  __new__(*args, **kwargs) from builtins.type\n",
      " |      Create and return a new object.  See help(type) for accurate signature.\n",
      " |  \n",
      " |  ----------------------------------------------------------------------\n",
      " |  Data and other attributes defined here:\n",
      " |  \n",
      " |  __hash__ = None\n",
      "\n"
     ]
    }
   ],
   "source": [
    "help(list3)"
   ]
  },
  {
   "cell_type": "markdown",
   "id": "a96da71e",
   "metadata": {},
   "source": [
    "# Tuples"
   ]
  },
  {
   "cell_type": "code",
   "execution_count": 34,
   "id": "918e6bb5",
   "metadata": {},
   "outputs": [],
   "source": [
    "#Tuple is another datastructure in python similar to list, the key difference is mutuable that means once it is created , its size\n",
    "#and contents can not be modified. We use parenthesis () to define a tuple.\\\n",
    "tuple1=('Machine','iit ','madras','learning')"
   ]
  },
  {
   "cell_type": "code",
   "execution_count": 35,
   "id": "0c87dfb9",
   "metadata": {},
   "outputs": [
    {
     "data": {
      "text/plain": [
       "('Machine', 'iit ', 'madras', 'learning')"
      ]
     },
     "execution_count": 35,
     "metadata": {},
     "output_type": "execute_result"
    }
   ],
   "source": [
    "tuple1"
   ]
  },
  {
   "cell_type": "code",
   "execution_count": 36,
   "id": "29fbe783",
   "metadata": {},
   "outputs": [
    {
     "data": {
      "text/plain": [
       "('Machine', 'iit ')"
      ]
     },
     "execution_count": 36,
     "metadata": {},
     "output_type": "execute_result"
    }
   ],
   "source": [
    "#acessing tuple same as list\n",
    "tuple1[:2]\n"
   ]
  },
  {
   "cell_type": "code",
   "execution_count": 38,
   "id": "3b17815f",
   "metadata": {},
   "outputs": [
    {
     "data": {
      "text/plain": [
       "4"
      ]
     },
     "execution_count": 38,
     "metadata": {},
     "output_type": "execute_result"
    }
   ],
   "source": [
    "len(tuple1)#to return the length of tuple"
   ]
  },
  {
   "cell_type": "code",
   "execution_count": 39,
   "id": "981ef9bd",
   "metadata": {},
   "outputs": [
    {
     "ename": "TypeError",
     "evalue": "'type' object does not support item assignment",
     "output_type": "error",
     "traceback": [
      "\u001b[1;31m---------------------------------------------------------------------------\u001b[0m",
      "\u001b[1;31mTypeError\u001b[0m                                 Traceback (most recent call last)",
      "Cell \u001b[1;32mIn[39], line 1\u001b[0m\n\u001b[1;32m----> 1\u001b[0m \u001b[38;5;28;43mtuple\u001b[39;49m\u001b[43m[\u001b[49m\u001b[38;5;241;43m1\u001b[39;49m\u001b[43m]\u001b[49m\u001b[38;5;241m=\u001b[39m\u001b[38;5;124m'\u001b[39m\u001b[38;5;124mmadras\u001b[39m\u001b[38;5;124m'\u001b[39m\n",
      "\u001b[1;31mTypeError\u001b[0m: 'type' object does not support item assignment"
     ]
    }
   ],
   "source": [
    "tuple[1]='madras'"
   ]
  },
  {
   "cell_type": "code",
   "execution_count": 40,
   "id": "0e214823",
   "metadata": {},
   "outputs": [],
   "source": [
    "#we cannot  modify the tuple.But we can redefine the tuple .\n",
    "tuple1=('machine','iit')\n"
   ]
  },
  {
   "cell_type": "code",
   "execution_count": 41,
   "id": "9004e888",
   "metadata": {},
   "outputs": [
    {
     "data": {
      "text/plain": [
       "('machine', 'iit')"
      ]
     },
     "execution_count": 41,
     "metadata": {},
     "output_type": "execute_result"
    }
   ],
   "source": [
    "tuple1"
   ]
  },
  {
   "cell_type": "code",
   "execution_count": 43,
   "id": "fe606398",
   "metadata": {},
   "outputs": [
    {
     "data": {
      "text/plain": [
       "('machine', 'iit', 'madras', 'learning')"
      ]
     },
     "execution_count": 43,
     "metadata": {},
     "output_type": "execute_result"
    }
   ],
   "source": [
    "tuple2=('madras','learning')\n",
    "tuple1+tuple2#we can concanate"
   ]
  },
  {
   "cell_type": "code",
   "execution_count": 44,
   "id": "3e9e05c6",
   "metadata": {},
   "outputs": [
    {
     "data": {
      "text/plain": [
       "(0.20000000000000284, 34.0)"
      ]
     },
     "execution_count": 44,
     "metadata": {},
     "output_type": "execute_result"
    }
   ],
   "source": [
    "#use of tuples:In function it can returns to multiple value.\n",
    "from math import modf\n",
    "a=34.2\n",
    "modf(a)#the function is returning a two element of tuple."
   ]
  },
  {
   "cell_type": "code",
   "execution_count": 45,
   "id": "813b8f64",
   "metadata": {},
   "outputs": [
    {
     "data": {
      "text/plain": [
       "('machine', 'learning', 'madras', 'with')"
      ]
     },
     "execution_count": 45,
     "metadata": {},
     "output_type": "execute_result"
    }
   ],
   "source": [
    "#sequence packing:a sequence of objects seprated by comma without parenthsis is packed in tuple\n",
    "tuple1='machine','learning','madras','with'#sequence packing\n",
    "tuple1"
   ]
  },
  {
   "cell_type": "code",
   "execution_count": 46,
   "id": "12e9afbf",
   "metadata": {},
   "outputs": [
    {
     "name": "stdout",
     "output_type": "stream",
     "text": [
      "machine learning madras with\n"
     ]
    }
   ],
   "source": [
    "x,y,z,w=tuple1#the use of sequence of unpacking\n",
    "print(x,y,z,w)"
   ]
  },
  {
   "cell_type": "code",
   "execution_count": 47,
   "id": "5a7e0b4a",
   "metadata": {},
   "outputs": [
    {
     "name": "stdout",
     "output_type": "stream",
     "text": [
      "machine learning madras with\n"
     ]
    }
   ],
   "source": [
    "#we can do it both in a single step \n",
    "x,y,z,w='machine','learning','madras','with'\n",
    "print(x,y,z,w)"
   ]
  },
  {
   "cell_type": "raw",
   "id": "551da329",
   "metadata": {},
   "source": []
  },
  {
   "cell_type": "markdown",
   "id": "0c6a5aa7",
   "metadata": {},
   "source": [
    "# Dictionaries"
   ]
  },
  {
   "cell_type": "code",
   "execution_count": 48,
   "id": "2f91c16b",
   "metadata": {},
   "outputs": [
    {
     "data": {
      "text/plain": [
       "{1: 'machine', 2: 'harsh', 3: 'iit'}"
      ]
     },
     "execution_count": 48,
     "metadata": {},
     "output_type": "execute_result"
    }
   ],
   "source": [
    "#A dictionary is a datastructure that contains a set of unique keys and with their values(if duplicate key is there last key is\n",
    "#considered). The keys should be hashable.we use cruly braces {} to create a dictionary.\n",
    "dict1={1:'machine',2:'harsh',3:'iit'}\n",
    "dict1"
   ]
  },
  {
   "cell_type": "code",
   "execution_count": 50,
   "id": "381223b4",
   "metadata": {},
   "outputs": [
    {
     "data": {
      "text/plain": [
       "'machine'"
      ]
     },
     "execution_count": 50,
     "metadata": {},
     "output_type": "execute_result"
    }
   ],
   "source": [
    "dict1[1]"
   ]
  },
  {
   "cell_type": "code",
   "execution_count": 51,
   "id": "d4575f4d",
   "metadata": {},
   "outputs": [
    {
     "data": {
      "text/plain": [
       "{1: 'machine', 2: 'harsh', 3: 'iit', 'name': 'Biswa'}"
      ]
     },
     "execution_count": 51,
     "metadata": {},
     "output_type": "execute_result"
    }
   ],
   "source": [
    "dict1['name']='Biswa'#we can add the new keys with this value\n",
    "dict1"
   ]
  },
  {
   "cell_type": "code",
   "execution_count": 52,
   "id": "aa95c7e0",
   "metadata": {},
   "outputs": [
    {
     "data": {
      "text/plain": [
       "{1: 'machine', 2: 'harsh', 3: 'iit', 'name': 'arbiatry'}"
      ]
     },
     "execution_count": 52,
     "metadata": {},
     "output_type": "execute_result"
    }
   ],
   "source": [
    "dict1['name']='arbiatry'#we can change the value of keys\n",
    "dict1"
   ]
  },
  {
   "cell_type": "code",
   "execution_count": 53,
   "id": "4a3c7095",
   "metadata": {},
   "outputs": [
    {
     "data": {
      "text/plain": [
       "{1: 'machine', 3: 'iit', 'name': 'arbiatry'}"
      ]
     },
     "execution_count": 53,
     "metadata": {},
     "output_type": "execute_result"
    }
   ],
   "source": [
    "del dict1[2]\n",
    "dict1"
   ]
  },
  {
   "cell_type": "code",
   "execution_count": 54,
   "id": "b3ebe643",
   "metadata": {},
   "outputs": [
    {
     "ename": "TypeError",
     "evalue": "unhashable type: 'list'",
     "output_type": "error",
     "traceback": [
      "\u001b[1;31m---------------------------------------------------------------------------\u001b[0m",
      "\u001b[1;31mTypeError\u001b[0m                                 Traceback (most recent call last)",
      "Cell \u001b[1;32mIn[54], line 1\u001b[0m\n\u001b[1;32m----> 1\u001b[0m \u001b[43mdict1\u001b[49m\u001b[43m[\u001b[49m\u001b[43m[\u001b[49m\u001b[38;5;124;43m'\u001b[39;49m\u001b[38;5;124;43m1\u001b[39;49m\u001b[38;5;124;43m'\u001b[39;49m\u001b[43m,\u001b[49m\u001b[38;5;124;43m'\u001b[39;49m\u001b[38;5;124;43m3\u001b[39;49m\u001b[38;5;124;43m'\u001b[39;49m\u001b[43m]\u001b[49m\u001b[43m]\u001b[49m\u001b[38;5;241m=\u001b[39m\u001b[38;5;241m10\u001b[39m\n\u001b[0;32m      2\u001b[0m dict1\n",
      "\u001b[1;31mTypeError\u001b[0m: unhashable type: 'list'"
     ]
    }
   ],
   "source": [
    "dict1[['1','3']]=10\n",
    "dict1"
   ]
  },
  {
   "cell_type": "code",
   "execution_count": 55,
   "id": "7548e5aa",
   "metadata": {},
   "outputs": [],
   "source": [
    "#since key can not be taken as mutable object like list"
   ]
  },
  {
   "cell_type": "code",
   "execution_count": 56,
   "id": "504b3db9",
   "metadata": {},
   "outputs": [
    {
     "data": {
      "text/plain": [
       "True"
      ]
     },
     "execution_count": 56,
     "metadata": {},
     "output_type": "execute_result"
    }
   ],
   "source": [
    "# to check the membership  among keys we can use keys() method\n",
    "3 in dict1.keys()"
   ]
  },
  {
   "cell_type": "code",
   "execution_count": 57,
   "id": "67407276",
   "metadata": {},
   "outputs": [
    {
     "data": {
      "text/plain": [
       "True"
      ]
     },
     "execution_count": 57,
     "metadata": {},
     "output_type": "execute_result"
    }
   ],
   "source": [
    "3 in dict1#equivqlent to: dict1.keys()"
   ]
  },
  {
   "cell_type": "code",
   "execution_count": 60,
   "id": "0829df86",
   "metadata": {},
   "outputs": [
    {
     "data": {
      "text/plain": [
       "True"
      ]
     },
     "execution_count": 60,
     "metadata": {},
     "output_type": "execute_result"
    }
   ],
   "source": [
    "'machine' in dict1.values()# membership among values"
   ]
  },
  {
   "cell_type": "code",
   "execution_count": 63,
   "id": "3b0b6697",
   "metadata": {},
   "outputs": [
    {
     "data": {
      "text/plain": [
       "{'biswa': 5, 'alpha': 10}"
      ]
     },
     "execution_count": 63,
     "metadata": {},
     "output_type": "execute_result"
    }
   ],
   "source": [
    "#another way to create a dictionary is to use the dict()\n",
    "dict2=dict([('biswa',5),('alpha',10)])\n",
    "dict2"
   ]
  },
  {
   "cell_type": "code",
   "execution_count": 64,
   "id": "ded9c8cd",
   "metadata": {},
   "outputs": [
    {
     "data": {
      "text/plain": [
       "{'country': 'india', 'roll_no': {'biswa': 5, 'alpha': 10}}"
      ]
     },
     "execution_count": 64,
     "metadata": {},
     "output_type": "execute_result"
    }
   ],
   "source": [
    "dict3=dict([('country','india'),('roll_no',dict2)])\n",
    "dict3"
   ]
  },
  {
   "cell_type": "markdown",
   "id": "cc177f2c",
   "metadata": {},
   "source": [
    "# Sets"
   ]
  },
  {
   "cell_type": "code",
   "execution_count": 66,
   "id": "fea9d9b3",
   "metadata": {},
   "outputs": [
    {
     "data": {
      "text/plain": [
       "{4, 5, '6'}"
      ]
     },
     "execution_count": 66,
     "metadata": {},
     "output_type": "execute_result"
    }
   ],
   "source": [
    "#set is a collection of well-defined distinct objects. sets are immutable.It suppourts union,intersection like mathematics.use{}\n",
    "set1={5,4,'6'}\n",
    "set1"
   ]
  },
  {
   "cell_type": "code",
   "execution_count": 68,
   "id": "b8b3c296",
   "metadata": {},
   "outputs": [
    {
     "data": {
      "text/plain": [
       "{5, 7, 8, 9}"
      ]
     },
     "execution_count": 68,
     "metadata": {},
     "output_type": "execute_result"
    }
   ],
   "source": [
    "set2={5,5,7,8,9}#observe remove duplicate entry\n",
    "set2"
   ]
  },
  {
   "cell_type": "code",
   "execution_count": 69,
   "id": "1abd2274",
   "metadata": {},
   "outputs": [
    {
     "data": {
      "text/plain": [
       "{4, 5, '6', 7, 8, 9}"
      ]
     },
     "execution_count": 69,
     "metadata": {},
     "output_type": "execute_result"
    }
   ],
   "source": [
    "set1 | set2# union "
   ]
  },
  {
   "cell_type": "code",
   "execution_count": 70,
   "id": "a2ee8fe5",
   "metadata": {},
   "outputs": [
    {
     "data": {
      "text/plain": [
       "{4, 5, '6', 7, 8, 9}"
      ]
     },
     "execution_count": 70,
     "metadata": {},
     "output_type": "execute_result"
    }
   ],
   "source": [
    "set1.union(set2)"
   ]
  },
  {
   "cell_type": "code",
   "execution_count": 72,
   "id": "b9bb72cd",
   "metadata": {},
   "outputs": [
    {
     "data": {
      "text/plain": [
       "{5}"
      ]
     },
     "execution_count": 72,
     "metadata": {},
     "output_type": "execute_result"
    }
   ],
   "source": [
    "set1 & set2#intersection"
   ]
  },
  {
   "cell_type": "code",
   "execution_count": 73,
   "id": "8d0c42b9",
   "metadata": {},
   "outputs": [
    {
     "data": {
      "text/plain": [
       "{4, '6'}"
      ]
     },
     "execution_count": 73,
     "metadata": {},
     "output_type": "execute_result"
    }
   ],
   "source": [
    "set1-set2#difference"
   ]
  },
  {
   "cell_type": "code",
   "execution_count": 74,
   "id": "a96edca8",
   "metadata": {},
   "outputs": [
    {
     "data": {
      "text/plain": [
       "True"
      ]
     },
     "execution_count": 74,
     "metadata": {},
     "output_type": "execute_result"
    }
   ],
   "source": [
    "5 in set1#check the membership"
   ]
  },
  {
   "cell_type": "code",
   "execution_count": 75,
   "id": "a8bd5dcb",
   "metadata": {},
   "outputs": [
    {
     "name": "stdout",
     "output_type": "stream",
     "text": [
      "Help on set object:\n",
      "\n",
      "class set(object)\n",
      " |  set() -> new empty set object\n",
      " |  set(iterable) -> new set object\n",
      " |  \n",
      " |  Build an unordered collection of unique elements.\n",
      " |  \n",
      " |  Methods defined here:\n",
      " |  \n",
      " |  __and__(self, value, /)\n",
      " |      Return self&value.\n",
      " |  \n",
      " |  __contains__(...)\n",
      " |      x.__contains__(y) <==> y in x.\n",
      " |  \n",
      " |  __eq__(self, value, /)\n",
      " |      Return self==value.\n",
      " |  \n",
      " |  __ge__(self, value, /)\n",
      " |      Return self>=value.\n",
      " |  \n",
      " |  __getattribute__(self, name, /)\n",
      " |      Return getattr(self, name).\n",
      " |  \n",
      " |  __gt__(self, value, /)\n",
      " |      Return self>value.\n",
      " |  \n",
      " |  __iand__(self, value, /)\n",
      " |      Return self&=value.\n",
      " |  \n",
      " |  __init__(self, /, *args, **kwargs)\n",
      " |      Initialize self.  See help(type(self)) for accurate signature.\n",
      " |  \n",
      " |  __ior__(self, value, /)\n",
      " |      Return self|=value.\n",
      " |  \n",
      " |  __isub__(self, value, /)\n",
      " |      Return self-=value.\n",
      " |  \n",
      " |  __iter__(self, /)\n",
      " |      Implement iter(self).\n",
      " |  \n",
      " |  __ixor__(self, value, /)\n",
      " |      Return self^=value.\n",
      " |  \n",
      " |  __le__(self, value, /)\n",
      " |      Return self<=value.\n",
      " |  \n",
      " |  __len__(self, /)\n",
      " |      Return len(self).\n",
      " |  \n",
      " |  __lt__(self, value, /)\n",
      " |      Return self<value.\n",
      " |  \n",
      " |  __ne__(self, value, /)\n",
      " |      Return self!=value.\n",
      " |  \n",
      " |  __or__(self, value, /)\n",
      " |      Return self|value.\n",
      " |  \n",
      " |  __rand__(self, value, /)\n",
      " |      Return value&self.\n",
      " |  \n",
      " |  __reduce__(...)\n",
      " |      Return state information for pickling.\n",
      " |  \n",
      " |  __repr__(self, /)\n",
      " |      Return repr(self).\n",
      " |  \n",
      " |  __ror__(self, value, /)\n",
      " |      Return value|self.\n",
      " |  \n",
      " |  __rsub__(self, value, /)\n",
      " |      Return value-self.\n",
      " |  \n",
      " |  __rxor__(self, value, /)\n",
      " |      Return value^self.\n",
      " |  \n",
      " |  __sizeof__(...)\n",
      " |      S.__sizeof__() -> size of S in memory, in bytes\n",
      " |  \n",
      " |  __sub__(self, value, /)\n",
      " |      Return self-value.\n",
      " |  \n",
      " |  __xor__(self, value, /)\n",
      " |      Return self^value.\n",
      " |  \n",
      " |  add(...)\n",
      " |      Add an element to a set.\n",
      " |      \n",
      " |      This has no effect if the element is already present.\n",
      " |  \n",
      " |  clear(...)\n",
      " |      Remove all elements from this set.\n",
      " |  \n",
      " |  copy(...)\n",
      " |      Return a shallow copy of a set.\n",
      " |  \n",
      " |  difference(...)\n",
      " |      Return the difference of two or more sets as a new set.\n",
      " |      \n",
      " |      (i.e. all elements that are in this set but not the others.)\n",
      " |  \n",
      " |  difference_update(...)\n",
      " |      Remove all elements of another set from this set.\n",
      " |  \n",
      " |  discard(...)\n",
      " |      Remove an element from a set if it is a member.\n",
      " |      \n",
      " |      Unlike set.remove(), the discard() method does not raise\n",
      " |      an exception when an element is missing from the set.\n",
      " |  \n",
      " |  intersection(...)\n",
      " |      Return the intersection of two sets as a new set.\n",
      " |      \n",
      " |      (i.e. all elements that are in both sets.)\n",
      " |  \n",
      " |  intersection_update(...)\n",
      " |      Update a set with the intersection of itself and another.\n",
      " |  \n",
      " |  isdisjoint(...)\n",
      " |      Return True if two sets have a null intersection.\n",
      " |  \n",
      " |  issubset(...)\n",
      " |      Report whether another set contains this set.\n",
      " |  \n",
      " |  issuperset(...)\n",
      " |      Report whether this set contains another set.\n",
      " |  \n",
      " |  pop(...)\n",
      " |      Remove and return an arbitrary set element.\n",
      " |      Raises KeyError if the set is empty.\n",
      " |  \n",
      " |  remove(...)\n",
      " |      Remove an element from a set; it must be a member.\n",
      " |      \n",
      " |      If the element is not a member, raise a KeyError.\n",
      " |  \n",
      " |  symmetric_difference(...)\n",
      " |      Return the symmetric difference of two sets as a new set.\n",
      " |      \n",
      " |      (i.e. all elements that are in exactly one of the sets.)\n",
      " |  \n",
      " |  symmetric_difference_update(...)\n",
      " |      Update a set with the symmetric difference of itself and another.\n",
      " |  \n",
      " |  union(...)\n",
      " |      Return the union of sets as a new set.\n",
      " |      \n",
      " |      (i.e. all elements that are in either set.)\n",
      " |  \n",
      " |  update(...)\n",
      " |      Update a set with the union of itself and others.\n",
      " |  \n",
      " |  ----------------------------------------------------------------------\n",
      " |  Class methods defined here:\n",
      " |  \n",
      " |  __class_getitem__(...) from builtins.type\n",
      " |      See PEP 585\n",
      " |  \n",
      " |  ----------------------------------------------------------------------\n",
      " |  Static methods defined here:\n",
      " |  \n",
      " |  __new__(*args, **kwargs) from builtins.type\n",
      " |      Create and return a new object.  See help(type) for accurate signature.\n",
      " |  \n",
      " |  ----------------------------------------------------------------------\n",
      " |  Data and other attributes defined here:\n",
      " |  \n",
      " |  __hash__ = None\n",
      "\n"
     ]
    }
   ],
   "source": [
    "help(set1)"
   ]
  },
  {
   "cell_type": "markdown",
   "id": "affa7970",
   "metadata": {},
   "source": [
    "# flow of controls"
   ]
  },
  {
   "cell_type": "markdown",
   "id": "5cc02cc1",
   "metadata": {},
   "source": [
    "#for loops"
   ]
  },
  {
   "cell_type": "code",
   "execution_count": 76,
   "id": "762ed730",
   "metadata": {},
   "outputs": [
    {
     "name": "stdout",
     "output_type": "stream",
     "text": [
      "iit\n",
      "machine\n",
      "learning\n",
      "unkonwn\n",
      "with\n",
      "3\n"
     ]
    }
   ],
   "source": [
    "# it is  a statement that allow us to loop over a iterable object\n",
    "for x in list1:\n",
    "    print(x)"
   ]
  },
  {
   "cell_type": "code",
   "execution_count": 78,
   "id": "f6b73209",
   "metadata": {},
   "outputs": [
    {
     "name": "stdout",
     "output_type": "stream",
     "text": [
      "hello , good morning"
     ]
    }
   ],
   "source": [
    "#iterate over a string\n",
    "string=\"hello , good morning\"\n",
    "for x in string:\n",
    "    print(x,end='')"
   ]
  },
  {
   "cell_type": "code",
   "execution_count": 84,
   "id": "ae6f6caa",
   "metadata": {},
   "outputs": [
    {
     "name": "stdout",
     "output_type": "stream",
     "text": [
      "key= biswa\n",
      "value= 5\n",
      "key= alpha\n",
      "value= 10\n"
     ]
    }
   ],
   "source": [
    "#iterate over a dictionary\n",
    "for key in dict2.keys():\n",
    "    val=dict2[key]\n",
    "    print('key=',key)\n",
    "    print('value=',val)"
   ]
  },
  {
   "cell_type": "code",
   "execution_count": 86,
   "id": "37928ce6",
   "metadata": {},
   "outputs": [
    {
     "name": "stdout",
     "output_type": "stream",
     "text": [
      "key= 1\n",
      "val= machine\n",
      "\n",
      "key= 3\n",
      "val= iit\n",
      "\n",
      "key= name\n",
      "val= arbiatry\n",
      "\n"
     ]
    }
   ],
   "source": [
    "#another way\n",
    "for key,val in dict1.items():\n",
    "    print('key=',key)\n",
    "    print('val=',val)\n",
    "    print()"
   ]
  },
  {
   "cell_type": "code",
   "execution_count": 87,
   "id": "09f58bf2",
   "metadata": {},
   "outputs": [
    {
     "name": "stdout",
     "output_type": "stream",
     "text": [
      "1\n",
      "2\n",
      "3\n",
      "4\n",
      "5\n",
      "6\n",
      "7\n",
      "8\n",
      "9\n"
     ]
    }
   ],
   "source": [
    "#also we use the range function \n",
    "for i in range(1,10):\n",
    "    print(i)"
   ]
  },
  {
   "cell_type": "code",
   "execution_count": 89,
   "id": "0e376c31",
   "metadata": {},
   "outputs": [
    {
     "name": "stdout",
     "output_type": "stream",
     "text": [
      "1 iit\n",
      "2 machine\n",
      "3 learning\n",
      "4 unkonwn\n",
      "5 with\n",
      "6 3\n",
      "7 5\n"
     ]
    }
   ],
   "source": [
    "#enumerate(iterable,start=0). it is a two element tuple of index-value pair\n",
    "for i,v in enumerate(list3,start=1):\n",
    "    print(i,v)"
   ]
  },
  {
   "cell_type": "code",
   "execution_count": 95,
   "id": "fa9d65fe",
   "metadata": {},
   "outputs": [
    {
     "name": "stdout",
     "output_type": "stream",
     "text": [
      "('iit', 'l')\n",
      "('machine', 'e')\n",
      "('learning', 'a')\n",
      "('unkonwn', 'r')\n",
      "('with', 'n')\n",
      "(3, 'i')\n"
     ]
    }
   ],
   "source": [
    "#Python idioms are coding conventions and stylistic choices that are commonly used and understood by Python developers.\n",
    "#These idioms often provide concise, efficient, and readable ways to perform common tasks. \n",
    "#Adhering to these idioms leads to more \"Pythonic\" code, which is easier to maintain and collaborate on.\n",
    "#another idoms is zip() which creaTES  an iterator that aggerate two or more iterables and then loops over this iterator\n",
    "for item in zip(list1,y):\n",
    "    print(item)"
   ]
  },
  {
   "cell_type": "code",
   "execution_count": 96,
   "id": "fbc43220",
   "metadata": {},
   "outputs": [
    {
     "data": {
      "text/plain": [
       "{'l': 'iit',\n",
       " 'e': 'machine',\n",
       " 'a': 'learning',\n",
       " 'r': 'unkonwn',\n",
       " 'n': 'with',\n",
       " 'i': 3}"
      ]
     },
     "execution_count": 96,
     "metadata": {},
     "output_type": "execute_result"
    }
   ],
   "source": [
    "# by using zip we can create the dictionary\n",
    "dict4=dict(zip(y,list1))\n",
    "dict4"
   ]
  },
  {
   "cell_type": "code",
   "execution_count": 101,
   "id": "dafb5e62",
   "metadata": {},
   "outputs": [],
   "source": [
    "x=1,"
   ]
  },
  {
   "cell_type": "code",
   "execution_count": 105,
   "id": "0c395760",
   "metadata": {},
   "outputs": [],
   "source": [
    "y=(3,)"
   ]
  },
  {
   "cell_type": "code",
   "execution_count": null,
   "id": "63756dee",
   "metadata": {},
   "outputs": [],
   "source": []
  },
  {
   "cell_type": "code",
   "execution_count": null,
   "id": "cd776aa6",
   "metadata": {},
   "outputs": [],
   "source": []
  }
 ],
 "metadata": {
  "kernelspec": {
   "display_name": "SCILEARN-KERNAL",
   "language": "python",
   "name": "scilearn-kernal"
  },
  "language_info": {
   "codemirror_mode": {
    "name": "ipython",
    "version": 3
   },
   "file_extension": ".py",
   "mimetype": "text/x-python",
   "name": "python",
   "nbconvert_exporter": "python",
   "pygments_lexer": "ipython3",
   "version": "3.11.4"
  }
 },
 "nbformat": 4,
 "nbformat_minor": 5
}
