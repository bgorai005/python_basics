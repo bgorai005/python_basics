{
 "cells": [
  {
   "cell_type": "markdown",
   "id": "332adf32",
   "metadata": {},
   "source": [
    "Python rivision "
   ]
  },
  {
   "cell_type": "markdown",
   "id": "aec6ac3b",
   "metadata": {},
   "source": [
    "#getting started with variables"
   ]
  },
  {
   "cell_type": "code",
   "execution_count": 1,
   "id": "52d2f0ba",
   "metadata": {},
   "outputs": [],
   "source": [
    "x=1#integer\n",
    "x=2.2#float\n",
    "x='python is a programming langauge'  #string\n",
    "\n",
    "x=True #boolean\n",
    "x=None # none type\n",
    "  \n",
    "    #this is the reason python known as dynamically typed ; in python everything is a object, x=1 creates a reference x to a memory location that stores the object 1.\n"
   ]
  },
  {
   "cell_type": "code",
   "execution_count": 2,
   "id": "b147fa1f",
   "metadata": {},
   "outputs": [
    {
     "data": {
      "text/plain": [
       "float"
      ]
     },
     "execution_count": 2,
     "metadata": {},
     "output_type": "execute_result"
    }
   ],
   "source": [
    "x=3.3\n",
    "type(x)"
   ]
  },
  {
   "cell_type": "code",
   "execution_count": 3,
   "id": "01d7df04",
   "metadata": {},
   "outputs": [
    {
     "data": {
      "text/plain": [
       "int"
      ]
     },
     "metadata": {},
     "output_type": "display_data"
    },
    {
     "data": {
      "text/plain": [
       "bool"
      ]
     },
     "metadata": {},
     "output_type": "display_data"
    }
   ],
   "source": [
    "x=5\n",
    "display(type(x))\n",
    "x=True\n",
    "display(type(x))"
   ]
  },
  {
   "cell_type": "code",
   "execution_count": 4,
   "id": "5e3cffb5",
   "metadata": {},
   "outputs": [
    {
     "name": "stdout",
     "output_type": "stream",
     "text": [
      "<class 'int'>\n",
      "<class 'NoneType'>\n"
     ]
    }
   ],
   "source": [
    "x=6\n",
    "print(type(x))\n",
    "x=None\n",
    "print(type(x))"
   ]
  },
  {
   "cell_type": "code",
   "execution_count": 8,
   "id": "7b781a6e",
   "metadata": {},
   "outputs": [
    {
     "data": {
      "text/plain": [
       "0"
      ]
     },
     "execution_count": 8,
     "metadata": {},
     "output_type": "execute_result"
    }
   ],
   "source": [
    "(4).imag  #imaginary part of 4"
   ]
  },
  {
   "cell_type": "code",
   "execution_count": 9,
   "id": "2019f9fd",
   "metadata": {},
   "outputs": [],
   "source": [
    "#observe that print and display are different representation"
   ]
  },
  {
   "cell_type": "code",
   "execution_count": 10,
   "id": "d20ed5c8",
   "metadata": {},
   "outputs": [],
   "source": [
    "#next thing is operators: arithmetic operators , relational operatoros , logical operators and membership \n",
    "#arithmetic operators: +,-,*,/,//(floor division),% etc\n",
    "#realtional:<,>,==,!=,\n",
    "#logical: and,or, not etc\n",
    "#membership: in"
   ]
  },
  {
   "cell_type": "code",
   "execution_count": 11,
   "id": "dfb19ff1",
   "metadata": {},
   "outputs": [],
   "source": [
    "#built-in Data Structres:\n"
   ]
  },
  {
   "cell_type": "code",
   "execution_count": 15,
   "id": "f5e36ba6",
   "metadata": {},
   "outputs": [],
   "source": [
    "#List: A list is used to store a sequence of objects .\n",
    "X=['a',2,3.0]# so list contains the different type objects\n",
    "#list are mutuable \n",
    "X=['5',6]"
   ]
  },
  {
   "cell_type": "code",
   "execution_count": 18,
   "id": "5df2c01d",
   "metadata": {},
   "outputs": [],
   "source": [
    "X[0]='10'"
   ]
  },
  {
   "cell_type": "code",
   "execution_count": 19,
   "id": "ae699f78",
   "metadata": {},
   "outputs": [
    {
     "data": {
      "text/plain": [
       "['10', 6]"
      ]
     },
     "execution_count": 19,
     "metadata": {},
     "output_type": "execute_result"
    }
   ],
   "source": [
    "X"
   ]
  },
  {
   "cell_type": "code",
   "execution_count": 20,
   "id": "6fbdc235",
   "metadata": {},
   "outputs": [
    {
     "name": "stdout",
     "output_type": "stream",
     "text": [
      "[1, 2, 3, 'r', 9]\n"
     ]
    }
   ],
   "source": [
    "# in list we use our arithemtic opreators like\n",
    "x=[1,2,3]\n",
    "y=['r',9]\n",
    "print(x+y)"
   ]
  },
  {
   "cell_type": "code",
   "execution_count": 21,
   "id": "56b29603",
   "metadata": {},
   "outputs": [
    {
     "name": "stdout",
     "output_type": "stream",
     "text": [
      "[1, 2, 3, 1, 2, 3]\n"
     ]
    }
   ],
   "source": [
    "print(x*2)"
   ]
  },
  {
   "cell_type": "code",
   "execution_count": 22,
   "id": "652679a2",
   "metadata": {},
   "outputs": [
    {
     "data": {
      "text/plain": [
       "3"
      ]
     },
     "execution_count": 22,
     "metadata": {},
     "output_type": "execute_result"
    }
   ],
   "source": [
    "#Acessing the elements of list by indexing and slicing:\n",
    "# by indexing we can access an element of list\n",
    "x[-1]"
   ]
  },
  {
   "cell_type": "code",
   "execution_count": 23,
   "id": "644a1865",
   "metadata": {},
   "outputs": [
    {
     "data": {
      "text/plain": [
       "[1, 2, 3]"
      ]
     },
     "execution_count": 23,
     "metadata": {},
     "output_type": "execute_result"
    }
   ],
   "source": [
    "#slicing is used to acess multiple elements in the form of a sub-list. For t his purpose we use a colon to specify a start point and end point of the sub-list.\n",
    "x[0:3]"
   ]
  },
  {
   "cell_type": "code",
   "execution_count": 24,
   "id": "fd23ac0a",
   "metadata": {},
   "outputs": [
    {
     "data": {
      "text/plain": [
       "[1, 2, 3]"
      ]
     },
     "execution_count": 24,
     "metadata": {},
     "output_type": "execute_result"
    }
   ],
   "source": [
    "# if you do not specify   the starting , python starts from begining\n",
    "x[:3]"
   ]
  },
  {
   "cell_type": "code",
   "execution_count": 26,
   "id": "f0368ab8",
   "metadata": {},
   "outputs": [
    {
     "data": {
      "text/plain": [
       "[2, 3]"
      ]
     },
     "execution_count": 26,
     "metadata": {},
     "output_type": "execute_result"
    }
   ],
   "source": [
    "#negative index also be used\n",
    "x[-2:]"
   ]
  },
  {
   "cell_type": "code",
   "execution_count": 27,
   "id": "3fcf0a43",
   "metadata": {},
   "outputs": [
    {
     "data": {
      "text/plain": [
       "[1, 3]"
      ]
     },
     "execution_count": 27,
     "metadata": {},
     "output_type": "execute_result"
    }
   ],
   "source": [
    "#another type of slicing is [start:stop:stride],stride-step size\n",
    "x[0:5:2]"
   ]
  },
  {
   "cell_type": "code",
   "execution_count": 28,
   "id": "ae12b651",
   "metadata": {},
   "outputs": [],
   "source": [
    "#for negative step returns items in reverse"
   ]
  },
  {
   "cell_type": "code",
   "execution_count": 36,
   "id": "d364537d",
   "metadata": {},
   "outputs": [
    {
     "data": {
      "text/plain": [
       "[1, 3, -5, -5]"
      ]
     },
     "execution_count": 36,
     "metadata": {},
     "output_type": "execute_result"
    }
   ],
   "source": [
    "## modifying elements in a list:\n",
    "x.append(-5)# to append a a value to the end of the list\n",
    "x"
   ]
  },
  {
   "cell_type": "code",
   "execution_count": 34,
   "id": "5ea40270",
   "metadata": {},
   "outputs": [
    {
     "data": {
      "text/plain": [
       "[1, 3]"
      ]
     },
     "execution_count": 34,
     "metadata": {},
     "output_type": "execute_result"
    }
   ],
   "source": [
    "x.remove(2)# to remove the first matching element\n",
    "x"
   ]
  },
  {
   "cell_type": "code",
   "execution_count": 38,
   "id": "88d49874",
   "metadata": {},
   "outputs": [
    {
     "data": {
      "text/plain": [
       "[-5, -5, 1, 3]"
      ]
     },
     "execution_count": 38,
     "metadata": {},
     "output_type": "execute_result"
    }
   ],
   "source": [
    "x.sort()#to sort the elements\n",
    "x"
   ]
  },
  {
   "cell_type": "code",
   "execution_count": 39,
   "id": "452d1672",
   "metadata": {},
   "outputs": [
    {
     "data": {
      "text/plain": [
       "[-5, -5, 8, 1, 3]"
      ]
     },
     "execution_count": 39,
     "metadata": {},
     "output_type": "execute_result"
    }
   ],
   "source": [
    "x.insert(2,8)# insert(position,element)\n",
    "x"
   ]
  },
  {
   "cell_type": "code",
   "execution_count": 40,
   "id": "43ed1516",
   "metadata": {},
   "outputs": [
    {
     "name": "stdout",
     "output_type": "stream",
     "text": [
      "1\n"
     ]
    }
   ],
   "source": [
    "print(x.pop(3))"
   ]
  },
  {
   "cell_type": "code",
   "execution_count": 41,
   "id": "fec18a48",
   "metadata": {},
   "outputs": [],
   "source": [
    "del x[1]"
   ]
  },
  {
   "cell_type": "code",
   "execution_count": 42,
   "id": "f654452e",
   "metadata": {},
   "outputs": [
    {
     "data": {
      "text/plain": [
       "[-5, 8, 3]"
      ]
     },
     "execution_count": 42,
     "metadata": {},
     "output_type": "execute_result"
    }
   ],
   "source": [
    "x"
   ]
  },
  {
   "cell_type": "code",
   "execution_count": null,
   "id": "c14291b7",
   "metadata": {},
   "outputs": [],
   "source": []
  }
 ],
 "metadata": {
  "kernelspec": {
   "display_name": "SCILEARN-KERNAL",
   "language": "python",
   "name": "scilearn-kernal"
  },
  "language_info": {
   "codemirror_mode": {
    "name": "ipython",
    "version": 3
   },
   "file_extension": ".py",
   "mimetype": "text/x-python",
   "name": "python",
   "nbconvert_exporter": "python",
   "pygments_lexer": "ipython3",
   "version": "3.11.4"
  }
 },
 "nbformat": 4,
 "nbformat_minor": 5
}
